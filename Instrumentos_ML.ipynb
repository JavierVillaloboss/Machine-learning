{
  "nbformat": 4,
  "nbformat_minor": 0,
  "metadata": {
    "colab": {
      "provenance": []
    },
    "kernelspec": {
      "name": "python3",
      "display_name": "Python 3"
    },
    "language_info": {
      "name": "python"
    }
  },
  "cells": [
    {
      "cell_type": "code",
      "execution_count": null,
      "metadata": {
        "id": "inqg3fX7fjrC"
      },
      "outputs": [],
      "source": [
        "from google.colab import drive\n",
        "drive.mount('/content/drive')"
      ]
    },
    {
      "cell_type": "code",
      "source": [
        "#Carga de librerias\n",
        "from PIL import Image\n",
        "import os\n",
        "import numpy as np\n",
        "\n",
        "# Ruta a la carpeta que contiene las imágenes\n",
        "folder_path = '/content/drive/MyDrive/Instrumentos'\n",
        "\n",
        "# Lista para almacenar las imágenes cargadas\n",
        "image_list = []\n",
        "#Lista para almacenar las etiquetas\n",
        "y = []\n",
        "# Recorre todos los archivos en la carpeta\n",
        "for filename in os.listdir(folder_path):\n",
        "    if 'bajo' in filename:\n",
        "      y.append(0) #indice 0 bajo\n",
        "    elif 'cello' in filename: #indice 1 cello\n",
        "      y.append(1)\n",
        "    elif 'guitarra' in filename: #indice 2 guitarra\n",
        "      y.append(2)\n",
        "    elif 'guitarraE' in filename: #indice 3 guitarraE\n",
        "      y.append(3)\n",
        "    elif 'violin' in filename: #indice 4 violin\n",
        "      y.append(4)\n",
        "    if filename.endswith(\".jpg\"):\n",
        "        img_path = os.path.join(folder_path, filename)\n",
        "        img = Image.open(img_path)\n",
        "        img = img.resize((244, 244))  # Redimensiona la imagen\n",
        "        img_array = np.array(img) / 255.0  # Normaliza los valores de píxeles\n",
        "        image_list.append(img_array)\n",
        "\n",
        "\n",
        "# Ahora 'image_list_train' contiene todas las imágenes cargadas"
      ],
      "metadata": {
        "id": "r7WsmfBZf19U"
      },
      "execution_count": null,
      "outputs": []
    },
    {
      "cell_type": "code",
      "source": [
        "np.array(img)"
      ],
      "metadata": {
        "colab": {
          "base_uri": "https://localhost:8080/",
          "height": 220
        },
        "id": "O9Kz9DyA6rMH",
        "outputId": "a122857e-0018-49df-fe95-1ccb4c215982"
      },
      "execution_count": null,
      "outputs": [
        {
          "output_type": "execute_result",
          "data": {
            "text/plain": [
              "array([[[254, 254, 254],\n",
              "        [253, 253, 253],\n",
              "        [251, 251, 251],\n",
              "        ...,\n",
              "        [253, 253, 253],\n",
              "        [252, 252, 252],\n",
              "        [233, 233, 233]],\n",
              "\n",
              "       [[234, 234, 234],\n",
              "        [233, 233, 233],\n",
              "        [236, 236, 236],\n",
              "        ...,\n",
              "        [233, 233, 233],\n",
              "        [235, 235, 235],\n",
              "        [249, 249, 249]],\n",
              "\n",
              "       [[250, 250, 250],\n",
              "        [250, 250, 250],\n",
              "        [249, 249, 249],\n",
              "        ...,\n",
              "        [250, 250, 250],\n",
              "        [249, 249, 249],\n",
              "        [235, 235, 235]],\n",
              "\n",
              "       ...,\n",
              "\n",
              "       [[234, 234, 234],\n",
              "        [233, 233, 233],\n",
              "        [236, 236, 236],\n",
              "        ...,\n",
              "        [233, 233, 233],\n",
              "        [235, 235, 235],\n",
              "        [249, 249, 249]],\n",
              "\n",
              "       [[251, 251, 251],\n",
              "        [250, 250, 250],\n",
              "        [248, 248, 248],\n",
              "        ...,\n",
              "        [250, 250, 250],\n",
              "        [249, 249, 249],\n",
              "        [236, 236, 236]],\n",
              "\n",
              "       [[236, 236, 236],\n",
              "        [235, 235, 235],\n",
              "        [237, 237, 237],\n",
              "        ...,\n",
              "        [235, 235, 235],\n",
              "        [236, 236, 236],\n",
              "        [248, 248, 248]]], dtype=uint8)"
            ],
            "text/html": [
              "<style>\n",
              "      .ndarray_repr .ndarray_raw_data {\n",
              "        display: none;\n",
              "      }\n",
              "      .ndarray_repr.show_array .ndarray_raw_data {\n",
              "        display: block;\n",
              "      }\n",
              "      .ndarray_repr.show_array .ndarray_image_preview {\n",
              "        display: none;\n",
              "      }\n",
              "      </style>\n",
              "      <div id=\"id-76e481fb-2444-4664-89d1-ea41687ebc31\" class=\"ndarray_repr\"><pre>ndarray (180, 180, 3) <button style=\"padding: 0 2px;\">show data</button></pre><img src=\"data:image/png;base64,iVBORw0KGgoAAAANSUhEUgAAALQAAAC0CAIAAACyr5FlAABcNElEQVR4nO29eZxcRbk+/ladrU/vs08mk5nsmSSQEBZZBUGWsIvXFQguuIHodeWqP70uqFzlCnq/Xi6iCChuCKiIcBUuEAwQthBCyL4nM5mte3o93Wer+v3xTlfO9Onu6Z4sgB/rD0gqp0+9533r1Kl63+d9XsIY45wzxhKJBOdcluXm5mYAcBwnmUwCgKqq8XgcAEzTTKfTAKDreiQSAYBCoZDNZgEgHA4Hg0EAyGazhUIBAGKxmKZpAJBOp03TBICmpiZFUQAgmUw6jkMIaW5uliSJc55IJBhjkiS1tLQAgOu6yWSSc64oSnNzM+fctu2xsTEA0DQtFosBQLFYzGQyABAMBsPhMADk8/l8Pg8AkUhE13UAyGQyxWLRK0wqlbIsCwCam5tlWT4gDKUtra3prS/ktr1sZlPMzHPHBNfmtsldl7sO4S4AcACgEqEyUEJkjaq6Go7JkRaixxwtIkfaIp09sdYOApDN5fO5LABEo9FAIODVQzweV1UVAMbGxmzb9uohmUy6rkspbWlpIYR4jdLS0sI5dxxnbGyMcy704DeKYRi5XK4eoxBC4vF4mVFaWloopWgUMjw8zDmXJCkajRJCXNfNZDIoUDQaBQDbtnEGqKqKZjBNE80QCARw+EKhgMOHQiEcPp/Poy4ikQgOn81mURfRaBR1kclkUBfRaJRSyhjLZDKMMVmWI5EIIcRxnGw2i7MEn9yyLHxyTdNCoRDOEsMwcJagGQzDwDkRDofRDLlczrIsQkgkEsE5kclkUBfjwgBJD+4ZfPBmyCZAkggQIAAAMP6H8b+UGi/9h3POgXMAAEKJrNJQVG2eLnfOi845Jto+g3Nu5HOTCpNOp13XJYTEYjE0TDqdxrfl9TUKwTcJe3GWoBlc18XhFUVBM9i2jcNrmoavpmmaOLyu6zh8oVDA4UOhEA6fz+dt20aBJEkihODwqB3URTabZYyhQADAGMM5gdrBNwbnRA1hisUimkEIYxgGPp0QJpfLOY4jhEHtuK4rKWrq+T/k1z5KZQUOpjHGuEs4I8F4cPaxoSXnhFs6FFn2ChMOh3FOCGHw3cApi3rAd6OiUXK5HL4tUzYKISSXy3mNIvTgNUomkyEjIyMAQCkNh8M4SdEMkiThlHQcJ5/Pc85VVcUpaVkWvqyapgUCAUKIMEwwGMT3A3VBCAmFQqgLnCWEkHA4jJM0l8sxxrAHVw7swaG9wsiyLHRhGIZXGK8uVFX1C0MpNU0TDRMMBtEMaBgCEAqHJUnKD+/ee9/3qGMCIb51YkqNM+ZYyrT57cs/waQAMDc48W3xagYNgyYQbwvnvMwouHKgUXBOEEIURSkzSiAQwBW0WCyapsk5DwaDOCf8E7SiUYQwBOcUYwyVTikNBoMoEA4my7Ku65xz13XRDIqi4JS0bbtYLBJCNE3DJzdNE6dkIBDA4YvFIr4faBhCSD6fxzmBPZxznHw4NABwzlEYSZKwx3EcHFoI4zgOzgBVVXE6WpaF31EhjGVZjLG9e/YODw9HIpFQOKSqqqooqqaFw2G8xjAKHFjyiV8Ut71ADnLZ8DXX5d3/8oVwdx/nTOhB13VcQQ3DcF0XAEKhECEEAAzDQM1gD2MMVwVKaSgUwq1hPUZBm2qapqoq5xzfDUJInUZBYfL5PMGtHyEEFyXOOQ5GKcUJyBhDM8iyjGZwHAcnoKIoqGLbtnFOqKqKw1uWhcMHAgF8WU3TRF3ouo7DF4tFFEgMXSwWcZaIoXHuS5KET+66Lj65XxgxNAqDb9XKlSuff+4513EJIZRSSqksy4qixOPxSy97RygUUgP62LY1Q3/5sdhoENxNAOEHOTU4Z7I67dIv0FgHcKZpGi7gQg9CM0IPuAwDQKFQ8OqhomYOxihlwuAbVUEYnImcc8uycHgcjDFm2zYaBgdjjOHwsizjYK7r4vCKouBgjuPg8KLHtm0cXlEUHB5faEIIfgXwMILfWhy6HmHE0EKYsqEJIU+tfOqplStlWUaN453xv7Isn3Hm21paWkO6aj7zKza4BSTF4sRikguEAKiEqcSVCHf5FL8y3LHotL6ed3xGkpV69FBRMwejB38PfmTrNwpJpVIAQAhBW+J4uJbIssw5x7ULAPDNQ+WW9TDGGGMAgFbx9+DRA20jrhEDiaHxGSr2NCQM5zyTzdx5x52WaUqUAiF4E69gjDFC5b5g7lg9MeLq281w0g1YnDJOgHAFeFiye5R8r5qToOFFhLsO0aPTL/603NrjOrb/qWvroYZmDqFRaggzPrfE8KhTXH6riYjD+3sopdiD30WcDWU94rb+HjG0X5ga+ioTpkw7jLGOjnYjb+Ba6rou/repqalzWqfruoZRcIzMAt5vgvJsvjXLNJkwAkCAc05sIDlHHrB1lbg9ap41sH5w7toQ6YiffrnUMgO4K1EJb1q/Hrw9+Icp6KHMBBXNVFsYgttg/GccVSzCeMcaPfgTHFWMMYUecVvcn9buKRu6hjC4XOFm1sjnDaPgMre7uzsWi7muyzgfffaP+bWPgKTutkJbrWjOVRyglBKUMkDsLtlYHEhphNW7dHDGOKhzTmg7+TIl2sIdu56n9n71qpmgmh4On1E45wc+K/h9woMAfuewhzGGs9Xbg6ucJEk4E13XxdkqyzLeXfTgIQoAHMfBuSk2Afj59PeIgSoKUzZ0LWEUmRKK234xEP7ZZVAY3jn85/8iTgEIpYQ7nBpc6c+Tu5/fxzn/2EldPSGugNPAzpQzUINtp79Pn308Kc0xv2b8eqimmUOmh4lGqT20t0fWNA1nTdneh3OO5wLvbgh7/GcHcY5yHKesB/c+AKBpGs5u0zTLNmJ4JME9M0zckKJ4/qFFDz6Cd2hd1/H4Y1mW7TjAOW5ROee4FQeAQFDPr3+Cm1kiqwDAOKHAY9TSQ8DyyR0j+WRfcEE0YrkNfE0Yh+aT3hFddBp3HMexzdLuWOhBnB28J22hGb8eRI/Qg9coZXoQmvGbQPR4D3Reo3iH9hpF9ro3cDA8RwkfA56kOeeyLAuvA55xKrrFhG9KmApFxLM1IUTXdZzIeKynlOLhlnvcG3ioE94X/9DC+YNuMRQG3QPr1q0b6B8Ih0Pt7R2xeCwQCBQKBdyZBwIBSZIIlUY3PpfZ8oI80bHhcggo0sLOyJYRY/3+7Em9MQC37skBRFEDnXOMXI4z16+HQCBQpgcUBgAKhQK+0KgZznmhUPBqRujBaxTh8GjIKGVO5DKjlA097nFD7yQOjz1eT61wlQp/voh0YE8gEMCeYrGIPbqu44m8UCgYhkEICQaD+ELn83nURSgUEk4wFEgIg26xisLgQCK4oGma6Ekmk08+8cSG1zaITTGuw6qqtra2vv+Ky1HLrm2lX/6rBC4BmZROIuOfD877OqOPbBjeOpQvOlwm45GTehpzXWYWYp0h4Nw0Tb8ecI6Kha1MDwCADmJ0eeHbUs0oGH6aslEMw8A5Udsostd7TyrFeBzHwbifqqoYCbQsC3sCgYCIkWJPMBjEHsMwcNqK2OC4x9rjqRUhFRwaQyroPq8mjG3bZcKIsGQwGFz97LOvrntVVVWxk4eSd8h13dXPPjutqysSjbI9a/jwdirLJpNMTl1OKOEaYRpxCWdzWoMxXRnIFPZnrd6Y4tY3OzgAuHZhdB9t7mGures6iofvBgCEQiHUA0aPic99TnzBJqEHDEnWaRRv4LqGUTAc4TeKcJ9HIhGCH0IxPMa6xJTknIu4n2VZ+EKLuF+1iCg+ee2IKA4vSZIIxnqDkN7AWzVhMOwihNmze/fP7/g5OoNJmWPDZUDAZS4hUpPG3xYeSrnKdjOaclUbKOOEoGOD2rPUXI9WuPFvW9b2p687fc7Z8+O2w+qZHADAXDvUd0rP+Z8A4CIyLCKiQg/ouccZMCEyXIqI4pwoC1PXr4eDCVPTiRFyGfEBkiTFYjE0DPbIstzU1ASl5RonKfaYpok9gUAAwR+FQgF7QqEQ9uTzeRQ6EongY9QTsk+lUhWFURSlTBhN03CgYrGYTCYlSbIse+bMmUWzaJmWZVm2baNjo6urq6OzI5fLo9bmOzsBYHW+tcgViXACnABwTopA84487GjN2khfR3jNvvSGwczb5zcDuHWG4iiVjT0bEwO7iB4N6jqKZxgGChwOh1EPuVwum83WMAz3hOzrMQoOdDiMcmDlSKfTwjDeSerHUhySSUoqwRdw6IqfNoT21H5jcGeHTuKCUUgkE9lstru7e9q0aZIkMcYHN61J/u1Wwt1dVnSHFcky2eaUACEEJOA6sXrV/KJg7pX+zI1/29YV07598UJd4nVvO7jrOm1nXtW+7BwjnytUWjnAg6Uox5R4DINz4kgapSKm5ADYp5phDhOuRAhUQxdCmIr7UPxqCmFQF4SQQqGAn7ZwOKxpGn6kLNumwBOP/tTu30gkWSLc4TTPJBPUX63Zv3F/5l1L2s6ZHQLmECBJk3/1z5vSBfvfL+jraw04rN4vCzAXmrvbzv9kMNoUKGFK0DBCD28isM/4MoVLOn7esEcg0sTCZVlW2cKFSzoaxr+Kii2PWEXRwDVW0Xg8jrqoXxhd11tbWwkhhmHgVykYDCKuMZ/Pp9NpABIOh8KRyOi6lWb/JkmSAcDlhACPUkdVWK9uPzE8vH6Xe87sOegmb9LlmS2hZ3cmtgznFrUHoO65AVRyR/ewwS0QPyWZHAPg3iUd9SC+LzVWDvGdRc0ceaOM7zlQofj6ilmCkxRVjAKBZ89hWZZAdGJPsVjEnmAwiD2GYeBE9m+McbcFHuATvh8VV44yYQSYFIUhhNi2vXnzZsZYLBaLRCKqqjqOk8lmwbNxNgqFXGIo8fxD0sTNAwNwXL6sO/YHXd00nB/J2e0h6jKQCfR1hJ7dkdg4mLlocTs0MDtAoiTx0l/Ds5Y2NcUBoFAooMDe00oul6vztCI0U79RAoHAFIyCp5Uyo8gCmVd2WvEuZeKDV/+ZVpzmUSA8UuPw/iO1ON/XEAZvqygKDmTbNr5nq/6+at26dcC5qqqapmmBgKqqiiL39S1ceszScRByOJLc8ARLD1FZwekhdhEu491xbXZraP1AZsNQftqcuAuuy9n8joiuyrsTRqroxFWoO7gCQCV3rD+x/u+Ro85kToUzbTAYFLOkmp8DAWC8BAk7TEbBKVtmFDF0LpeT0anidUD5HS/4eavH8SJcUl5nHApU5gcEj4cU0UfC51NRmDJkq6qquq7f9/v7Nm/ahOEbRILxdBolJITMnj1b1VRV03J7NxY2Pq3IlAG4QDgABS4RoJw5hAQkcsz02Lr+zJo9Y2+bEwfgjEF3TO2IagOpwp6k0dIVYm79s4NQSrLrVzYvPlWNRIUevOg99IYJD6kAgAk9CGhc/Ubx7kKqecMaNYpchszz+tGFyxaXINd1cboJRCfCS6HkuoaJeFfcGKNAxIM1KkMfiZBHxaHLesTQALBmzRoxM8ATlmSMKYqye9fuO372M1ULRILqsWRX0aJ7nLaMqxS5zIFLwEPUbZMLM5SCQpwl3dHwK9LmoexI3m7VJcZ5RJPmtAZ3juY3DeeOnR5pzI9OJJYZHlv3ZPSY82SJosACxYgrHHgwV349iHiCcGZPwSgVQcjVjFKGRkNhZJxK3qCXCPYEAgEM9uA11IdRwyAIiihQa9jjOI4AieHG2BvuEzg2EexBtfojcN6hvcJompZJZ3RdZ5w5tsMZ58BxcsRiMSpRs2g6jpPOZqeZY0nZfrYw3eWEkAMui4QDu6zwXtk4IzzSE6ezWkKv7c9sHMqdOTtuuZwC7+sIP755dNP+nLkEKDQG+KESTb/29+ii07geraEZMjE6LfSAcUdvTzU9NGQUL3LPaxSvMGJoRVHG7YTX8VJcGw0jAsd4DfagQGU9Xiih6BGhZIEiEaFk70D+oUVP2UDeHtd1jzv+uIWLFrquy1xWKBjJ5Njo6KgkSSedfFIoFLJMK5vPpwd3w+p7chZvksyUq7qccgBFopSAw7gGTqtsEmCaRJd0R9cNZNbsSZ0+uwkAXMbntYejAXnfWCFh2B0h6jawKwUgEuQSmU3PtJxwMQUOhKBmKupBoLCq6QFNVadRvCao0TOpUVzXHcec4d25B04CExfq8RfCh1Cq1iNu6+8puy0ptYrXVPwVPlUoFBK4bSg5y8VzBvSAHgqxVx4yrHyTJJ8ZHhxztayr5Jn85LaxkYxx3vzocW1E5zYDYIwdMz3yJ1XaNJQfNeyWAGWcd0aUaTF920h2e6IwLRJx6/d2lJ46s+Hp6MJTJT0MJSCWV1fiwaemmfpNQCpBy6phjrzWpwh+4SV0GsqKnZRSbw+UEHh4uPL24AXCbNSD5RQ94rbeHuykpYY38Q5dNhA+Q6FQGBgYyGazljXuKUd0AmPMdV38r8sgu+Pl/LbniSRxABl4u1yYp6WPC6cD2b2vvLZh+67dEWl8OXAZ74nrvS3BkZy5aSiPXgddlua1B22Xbx7MTCWZhUosO5Lfs4Fz4JxV04NX4ZNqxquHSY0CHtBoDRPU6JExCAQTv3wonFivvB8aqLReiW0EQjW9PWVfNTxWeJdK79D+njJhVFUdHRn530f+d//+/bIsK6qi68FIJIxxvmOPOy4ajcqyLCsKKxrJ5/5EmAtUAgAOwDlhQAiHE2e3Pr41uXZfNlXkYQUYBw4QUMjS6dH1+zNr9qTeOisOQABYX0fkETq0ZThXtJlEG4nf4/TgzNjxcvPCk7gkuZVw+ah5/+ZD6AE97jWM4v9kePHo9RilTBixy7FtW66YEMFLiBuostnEHoTPQCm7CW+NPfhOw8QdslspRYJSingkXiU7QwhDKd2ze8/vfvvbYrEoy7Jt25Zl5bP54aEh1OmCBQvi8bjjOK7tJJ5+gCf2yLLCODAAAkAJJwCMufPaQjOa9N1jhc3D+bfMCDOXcQDusqXdsT+t279xMDtqOM0B4jI+u0WP6epAujiYs3piWp3he8/skIsDW3Mj/VKkTVMVkfdVUQ/ekwKC5fyaOcJGmfwoW+cZqSzS4QU+4alJHPT9x/oaBzYv8Im57G9//WuhUEAti88kBYo3fOD+B1RF1kKRORE2I7VuwI0PWXqOKQ4nBHiAsphkd8m5jgBbNiO+bTT/wu7ECT1RAEYAXMZmNmk9LcEtg9lNw7nTZ0YtxltD6oxm/ZX+9NaRwqwmrbE9KQAhhJl5lh2KdfZixAcmwn+q+RjKoHENGQWRFfUYBSbCf8qMYhhGBScYek4kT66syKiuhsKqBnwCAIE1QvQRAGBGKNQBfBLOH3T1pNPpbDarKIrYmqAN0KlsmqZlmsWiqeTSen7kOSu2244QACJ2Cy7stWEjxE6FxFt6Yw+/Nrh+IJss2HGV4r10mS6dHt8wkF2zJ3XarDhwV1WgryP88t7Uxv3ps+c3k0Y8pQAAwAln2T1b5a6jdE0t00Nt7ySvzwnWkFHQ/1bRKEIYr1EquM/9EVHhsS7DGnnJIeoBPuFErhZKoD73eRnwiTF2+ZVXcMbzRj6bzWYzGeSimDt3bt/Chfl8PpPOmI6Te+nPkZF9Q66ruszmFKeQLBGJEsaYDo4CTmezPqsluGkw/9r+3OmzY8zhAIRxdsz0yIOvyBsHc0nDjWvAGe9rD2sy3TFq5ExXlxtzd3CghADPJ2PhUL6RYFMZAMzvPp+yUQQosB6jyH58Te1YFw5fFuPxhpewZ2pgHxGERGEcx0FhMLsVABzXyefy4Ui4t7fXC18oFouRSKSjszO3Z8Oe1HYCsEQf61VzCVfLu4oN9MW9mb0j6bf16mf1qMS1FEk6rqdp/f7sC7vGTpsVR1u6Lp/ZrPe06FuH85uGs6f2xlzGepoDLSF1KGv2p80FrZpTz7aD8/HMS844c83MWDKZDEej/oho/WCfMj0ccqOgMLxGyB5nSVl0GOl14FBHh0kl+AI+uXeC+kPVIrw0PDyM7we+VQXTHNq3O/noL7hVIFTiHOLUapIsAC5TKoVzT63elt6vLo7Pnx5VXMaXdUf/sFbZMJgbztltIYkxzgGCMlnaFds4mFuzJ33KzDjnENflWa2hZ3YkNw/nFrYHqnxYODDGGQPgQCQiK1QL0UCQqAEiKbS5O94ULxSKubpD9gLgUkMPR8AoB2CCOPwRQ6RBJbBPNWFqwASFMMFw2Nzwf25iD5VVNCAbz5gnrgvHz4itOLH3p0/v/smq3V86Z05Ahu5YYG5baG1/6pWB7PIFTRbjAMA4O6Y7+uCrgxv2Z5IFN66CTPiCjvAz2xMbB7MXLWorWyE4c4BzUDQp3h5om6E0dfFQCw03hVs6Q9E4kZS8USiaxVQqHYlEvIYBADx1Q02wDwJchGaOMEywHOxzBFYOMScOCdinJAxJbFiVXvekVIVjw3bc5Qtb94wVHnlt6J4XBq4+uVuT4Lie6Np96ed3jZ01r4kAcACX8ZnNem+Tvm00v3kod0pvhHE+vz0UVKVdGL7H3EjGGHOoFgx0LozMXiK3zbbUsKwF9WBID2jAuWHkk+kscAiFQs3xuFcPB7NyeN+WI7RyAIAQCIcHADFL8PPGOfe/rPh5Q5dlxUnq1UXFSYrHpxp7DhRGaAchLV5hisVicmxMYizx4iOUMwC54uTgAIS5V5wwfWey+NdNI32d4bPmNi2d3hQPDm8fzQ9lna6w5HLOOQ8q5KiuyMah7Np96VN6Y4y502N6ezSwP2XsGSs2Tws6tinHOpoXn6rPPtZSolSWVUWJ6QHgvFgsJkbGswGa4nFCiGEYyeQ4fVudAGNWAj1RSsXbUm0FrXPlQDPVv+fALfD4rpN58gPKPvz+TZAAgJmmiam2uq77N0F+4JMQyPWxHLGJkEnUjhf4hMIIasMJaLR4HDjP9RyVTuwjtkkoJYSWjrClgywBznlUVbuaoxv3pwcyFgAL64oe0FLZvOFwQjieRAjwuC4RQvKmw4FxzgMyCQdUh2XzpkMkKXrs+er805RIE5XlpoCGehjzvC2oB9RMGQrLe0CokTPih8b5jeJ9dcuMgj1eo6AwjRplPKmJltBH1Y6RMBGFVf/xSQCfvNqhvkQ3HFpwgk0hw6rl5Hc0952Q27kuv3+HlUlwu0hcG5gLnDHGgDPgwAAYcAJACQVCOVCO84cQTignHIBwIqGvi4x3AgPCgRMOHIh+zAXxZedrARWY68+wqp3u1Sg0rp6kJr9R/OlewiheYHqZUVCYMqMcSIcUzrgamXf+nETsKQOAoTvWD3zyoo/QD4i6wKGFe455uLAaSAO0bTvcqS2ZFj1OkSnnjp3PpIpGHlw7FAwpigScDQ0N2y/9D3F32m3zh+adnkmnOdsInGe7Tx6e1oHRO1VV8gNPg7vDjkwbnXux4zgMmCXvBz5qTFsWWXyGLEM2k4ZKmPjaKKyKeiCV8lSFHtBxWU86ZA1vGKYvcM69CZKTCmMYhoxTCa+DEicYzhL8GSuRlEmShD3uRC45qJLfLKi6ygjd/CxH/tiKYAnD21YUxp9SrGvj7FiG6QKBQLw91CIBIbZlWa4rK0pmf2ZkNCHL8t6BwWdefKVYMGzHAQKvbtyyZ/8wR9YbWd7TPyjLcjKVeXbNq67rAHDDKEiStG333mQq3a5qwcmEEXrw5jcLiJPIeUdndpke0Hj4tgijNKQHf9I5/qqaUaBKpj/Bd5T7GCD8Paw6J4SfluPQ0lHUI4x/6LIeSZL++Jtffv3rX490zigO7iqODkmKFJq1mEpybvdGXijg/oQxCLS2aZ2z7NRooX8HIcAJhHoWUj1kDu7+1Z/+smDx0kKhAMD9Q08qTG09iB4B5DkceqhhgrIe2W2QmKt2T9ljgI+qy9vjViKRKhOmhnj1DO3tIYQUTIsDAHBCqSQBLd2TUsolUqIO4wSBMIRIEv4d1QUcuGWanDNZlrwDNSRMmR5IiVvGqxm/CSbVg1+YanqoaBRxW+Yh3JLBg6HChit87Z6yVu1fy+4sbkU8ic6NtmrCiNvWkC3W3NraOc2w7Rmz5rYfc4ztutv2JxzGFx93kq7IeB0lMJIxBlL55raOnr55HDhwsn0oYZj2nIVHK4EgL8VX/JKIv1YTxvsUZT/xXl+PZiY1ileq2jf3GsXbZNyjQnUSQVKJka2sR5KkMuiR6HE97HRQ4unCNa3GWlVNGDHl/cIgAKyGMFSSdmzekBoZ1ls79+/d1b9+lMiy1DEbJHnrqy+DVQRCADhnXIq1yE1d6eToK1teBkI4AbltFtX07Zs3pFMpSZIt06qoh/qF8WsGJlse8OIyXdUYuh5hvEP7e2SBy/JTLgm2J9zFSJKEPa7rCkJSwZAqYM3YI6B7fu7L+mk3D7EwhOTSSe4yPCRbVpEyVQdOgDu2zU2cHMAYV12HEmCM2WaRE8IJkTinALZl5rIZxliNoQVTbJkwZZRLpCYhqUgAQJDYlPVQJozXKPUIM86SzCuhsDD27z2keDmmwcM6jSlGUB1rBACBQAB7GiLsRfGEMGJo10PrLLbitYWRJMk0rdJHgXuD76XSB54O7//wj4Qw13VtU5Fl9B/49eAXRvDVi3NBmR7AQ+mMeiCVKJ3L9FDDKJPqoX6jyOhP9Z6t8fwiTSTGx+EFKzv61yqmeAv3RllylZfqWzjBUBeC6tvPv16RpR/N4OViwJWvmjCIwtI0rei4kqJyzmVFlUJhIimEUA6gBYKEUj6+7eRE0TjnVJICoTAAAUIolTjnmqpahYJl2+FQGMgBIByisAghfmH8mKtCoeCUeMeFE0ygsLya8RrFqwf8lPiN4k0wI4Q0ZBThBPPyrx8A+wj0kR9XItL+saeiY3Q8bl5iAPMyX1VkORKeWlalWAKfyOyDQ6uqWsb/VDEjFK8RLEfjbmNCWlvbm1pbc5YzbXpPa6TPdtnO4THHZbMXHqXJUmlDSkazxmA6H483d8/uZRwA+O6RtGHZ3XMWxNs6FUVOjaW8wpimiUm59ThGhQ97Esolj8tYOEbRKDgnyvSgaVqZMGVG8QpTp1EIoiKor9YJ+uC4p9aJn6bOPyXLSmpAqXoDIUSwHFUDPvHqNV+EMN73w19So3bNF0VRrrvispc3bAm2d5tDe6zEIFGUYO9CKsnGnk2saOCegzOutbSrHTPtdMIc2A4EOCGh7j4aDCe2rf/SN2+86mOfkEq7qMNU66QiNM6rhxpG8RegqWYUqFSAxmuUAyF7ERH1JvlzT4ynziR/7KkYHW4U+FQxZF9NmHqAT67LCaEAQCilEqXSOCcDpRKRpPHJUfJzEEIkiaKfA/+JUkqAY3oETBbrKhMml8uVhanrZPapBl04AkY5APYRcb/XEexThkZrDOxTE76Qy+U4h1Q2j5NjvDWYakCAjyUTlmWWYSnKCMoqCiP00BDYpwwGdYTBPq8DJ1htXUAVTrBJWfQmZTmyLOtrn/v0S+vWp4tWVzzcFg06Lts2lHRcPqcjHjjgBCMjGWMglWsKBma0RjnnwGHHyJhhOp2RwFUf/si7r/xAIpGASth/70avIpsgVOcEq/i2COiCfyNYZpQpFL2bdIK+yQoA+jnB6tSF4zgFw/jARW9LFLkab7MTA05qmMqK2jUPJMnavwPMA3sOOd4qt3a72TFneBcA4YSo0+aQQCiza+OVV334+m9/Ty7Vtqn/banBCVbjO/v6c4LhAdqPK8EPVaO4kopgn7KlrNr+S1BPiTcGxfOzHPmFEd9aIYyXvyYcDgPnxaIJoI4XuHBdIBSQatJ1ueuKycE5AyhdA4RTAhwI5h4CV1UtkRiF+pDf3g9/rlTR0wv2gUoFAHFO4CwR31k8wR5Jo8iIEfJujPFohLMEBRK4EuypBvbhnAuy3LIEFkJIPp8XSU2SrwCg97TiFQbFw20yzpIyYfz4Gq8wAqxQLBYTiYRRsEBXAEpZyFhLBAjjjDOcK8AZ44wTAA6YqUw4kHF/GOe5TNayrVg8BnwCvqaaMGVnWtRDGeWSvxCiKABYpod6jCKEqYbA4pyLWVIt02zcKOip5VUy72Ai9UeNWnMiEdRupAAgKdWaKxvaS87PPWXu/KmhXmiC8AOWCaPruizLg/sHv3H9Z3b1D47li11N4fZ4xHbc7fsTNmNzOpt1VeGMcQ6UkpGsMTCWbQrrPa0xzoBzvmNozLDMrljo7ecu/+QXrs9mshX14BfGrwdd16VKfPhQJScRNeMvAOhPkZ2yUfxDo1EI7q38rmvJU7xC5Oz6nfYCwGIfZK25KonU9RcA9AsjhsbAxI4tmz7yjvN4rE0KN7tjAyyTAEmRO2aBJLvDuxwjKyuqqqq2ZTI9qrR2s3yGJfYCACdEbptJtGC+f+vpbzvrlp//Cg/ANYSZVA/QYAFA4TU/kkaR/W58f4a7QB9NGuCoGGXA/ZcI/1SMt+G31h9bqSZMjUBPReCTJEmMc8PIByLNQMB1mWUWqcxk4AR4wTCOfctp577zfboetMzC4//3+MsbNxHm2sUCEMoJSJwTAq5t24WcJFEjb0xNmBp6ED20Eu2AMMGkRvEPPWWjyDU4IQQeycsS4e2pEST09giEkoCN4UCOj+WoBlFHmTBlkdvaQ2N8K5PNmZYT4LjrZMzlQF2O+HTOh/v3bF73UiQaN3Lp4cF9EqEu5y7jQFxkRwcAznihYDqOqygqMudMTRiB3ULfsVMqjejXzKR6OFRGQWHKjDKOGxMaxOvwn709ODzzkAYRD7mM9xpsXsABn0g+xCbjKyrrqV8YXnJq+YUhlDLGu2bO4oFwweXR5pZALMwJzVKJAUzrmena5tOPPkIIAc5tRSdqRA+FW2fPxcmTkzSHsdZpXZHWDsZcPM3UI0xFPZT11KmHgzHTpENXFEYmHkARn1h9TtwR/yrk8F8j7uj/Vdk1Qlb/BRV7DpUwhBDXzIeDYYPK4DBV1UKyyjjJmZwA6HpQCeqlO0PWgaLNZVkK6VG8Rd4inPOAriuyzBnjnABUfoRqAvt7hNpJCRcnnqjibXmpTqP3J1PT3qTCYI/s+Pjq/KBWP9VQ2VrkhbCWwVyVxgsA1hDGP3Q9wjiOQ1x3ZHhk48uvNs+dJcfaRgb37BsdlBQpOHMxleRdWzHwBgDAGWit7VrHzGw6MbJvOyHAKQRnLJSC4f6dm2TObMfVAxrnlYcWn04/3FcIw+pDXB+8UaoJU49RFEUpLwBIJhKSQs2ae66vAKDYISvVCwAK3L3YdvnpR71l7nilAoDek0K1wnfe7bqiqEXLpjJgbIVSKstUsF1LkkTlUuCNcbHIyQotAYwJAEiywhyLM9e0LM4qn6HqE0YhpUKIUCUtAF/fI1MA0GsUtdECgGUJEban5p4/XowC+QsATlrmjnsKAOpVCt9VTJARQ/sRBYLliHNIJROODYxzCQhjruswTmzckLquwxx3PHWSgeQyAMI5c7BMEx1fdZnrWgXDsaxwOArA/cJY1QshBuooANgoD1adRhEO9UYLABIUnXlq7gneZKNKZUYvAVmxROwt0Ga4H9Z1HZdEw1NrTgCf3CoFAAUkrJowFXF4ZdNRCFMoFPBlDQaDiqL84mf/c99dd+WJlLNZk0ajMrgcBouMcWjXqYozgwMhJGOzMQtCCmlRAThwAsNFsBhrUnh357SbfnKnJMuMMSGM0EPFdwP1gMKgGfD1nbQA4OtulPICgKyRWnMVncTVas0h4obUBD6JIgFlubJeNNqkGaGFQkEII5zEtu0khobSiVEebSKSWjTy3ClwQrkaA0Jy6bTs2i5zcavpaGGihm3LyuSymEzLlCihciGXHRkeKphmV3Mzrx5GgLp5sCqisPgbowBgOByWRZhNzBJ/YnujuBIyMZdc4Eq8IBfqKQCI2vGCfcqEsW27mjA18DVeM2iaNjKaGNi9t2mOKscC2fRYYnSQKoreG6aSPDrYT2yzrbMrGm3K5zNFI0e1qGnkMwM7EQkW7O6jQXVsZKiQHnVsO5POOK5TI+Z3kGAfb5jabxTwBN4OOdjHa5TGCgAeJrBPGT+HH3lUA+xTJ1eJZdvZdEqSAanxCaFUPoAEYy47Y/mll634iKyozLH//OCfnlq9mlJCJyLBJElijlMs5GO9vbiFnzLYh9QNcDmSRuF1coK5PhIZIVBDJDLZbLYis09FXVRDozl1cGHV1oWqqlY+zRxgwCTM87EZB4ePMzDA84//df+eXZFYLJ9JD6YySrDJKXDHYaRUPxIAXMa4VeSum05nHMf2o9F0X1FIIYwAgJWtoBXflikw+zT6tgg0Wg2jvCEKAJYx2viFOSRgnx9869+3b3htpGCmC1Z7ONAcDjgu253IuZz3NIdVCo7jcMYlSlKWO2rYkYAyPaqj43BvKl+03K5YMBxQv3LjDxYdvQRXjimAfcrIdGq/LWUsLkcS7BOLxSYUHWavR31bvy4QdN6oMLV1IcvKB//l4s0vPUdbOpgWofmEVEhzKruxTk4lOT1IHGucBohzFoy4oVZi5uTsCABwQtxoB1cCUmaIW9atv/3T3PkLLNvyT9BJYYKkVHTYv3JU23O8jkY5qAKAtTdBk9aaE7t0P8uRmCX1k6KKzaBXmGCpAGA6kxkd2p8ZGwtFmmWdFgsFK5mQZFWPdhCAXCbDi3nhBFOIpEaIY1lGchT3HHqolarEyOWKmVSxaIQjYTytNITCEqe2+gsAHrGqjGFfDfkjVwAQKrE5h6oXAPQXvquf5cgvTDgcJsCZWSAS0l1zQggllJSiMIQQoIJGrBQ0IYRgJyFQ2sYCAcs084ZhW5YQxn+MrIcHq54CgK9vVcbXvwCg1zNYfwHAhiiXUF/FgsFdAIyoMsZcBnR8Q8qYy1z0kBJg41FNzrnrsvH9aqlMkWvxgpEP6jrTNKc+VnjhkvLzYFXzkBolhnzhDXt9jILfad4ICktgjfzAp4ooLFy4NF8BwICvgkS1oUWPAD75hakGfCKE6HpgbCz1/33mk3Y+N5DOJfOFafFIa0R3XbZ9eMxx+az2uK6McxwQSkazxv5UPh4M9DRHGecAfOdIyrCd3pZYQJKuuf5Lxxx3ouPYU0BhYfCiIgqLV6+k4ddMQ3qoxyh+VJ5pmgQ/ZmRiFTGYCPapEQD0xx7pRKqhsgCgt6ceaE+1qKy/xz+06OEA+/bs/sAl55nZMallOglGWXqY5ZKEKrRtBlCJj+5zC3mXuYQAZ1yOtcotXdzIsrEBAgQIIS3dRA2w5EAhlf72f99+4WX/4rquXw/1CDMFPVTUzBEwiuxFH+EfvIYpmyWT9qCI+NKLHl6CWQihcSDJU/gOe0Q8ulrPpEPDxFJ42KOqKrPtQjphFQw97kiEOLZl5XJUUXXOCYCRz02f3n3cW8+MRKL5fPaVV18bzBjMdax8dnxD2sQIIZZZLObyuXwe7+wfuh5h6teD6CETmZz4xAKADQ09qVG8Qx8oAEg8KI+yHj+sRmCNSCWgCpmIy/L+ynuTeoauJkw9PeKvAGBaJmOMUFqirSVlkrR39yw+9sSArltmcTCZGUhtHL9DyT0KpQ2pbVlQ+u0UhKn2jH71VtNVnUNXM0HFayoOLTMPQRj+szuRfIjXpFwSyD82kdPI2yMehk1ke3Ino4fjnmJ0ByMMEJLN54umLXFWSljCDakLAByASvSFJx57+eknNU2zikUSadK75jgGbkiJ2JBy5rou5HNZSgjuEqoNPalmSKn6Xz16OHijeE1Q0SgVhZErAlZxQomvmliL7IMrAIgyIaoIAATQ2Z5Y7g9qFr6rJozrK3w3PjQHWVECAf34089SZWlvIj2WL3TPmtdxzDLLcbcPJRyXLT7uJF1VOOOccyqR0Ux+IJWPt3X09s3jHDhg3oo176hjApIUizc5jmPb9lSEqaIHnAE1wN7V9MB9VRnF0N6ehowihCkvAOjfIbuHutacyM4oNlgAsLYwYmghjBiacz64b++rq/+uKjJt6ZKCsaF9uwc3JEBWpPZeoNK2114hVhFgvEQgiTZL8c7MWGLdtlcwDY629UiqvnvrxkIifdyJJ+KJwy+MXw9+YaaQv8N9BQCZJ2/lkBhFO8gCgG6JakhpvAAgTFZrruLQXuBTtYrtyHIEVQrf4dDxpibm2oV8kWtUc12JENtxrIIhNqSWWeQe8hY1aClIKlcwxjekjBNCLNsqFAvZvGFallks+vXgFyYQCAgXu5//yS1RLlVz/ExqFOcgqjJOahQZ/ST1OMFqu3pqFwAkpVxZ4nMIEl/hO8lTALCaq0fxcBD4WcbLhHFseySRZAyTpAFE1kJpd8YZ54wBLe3RGGA+LcePyvhxGDgDzqBomoFAQFWUevxvxTpq7vkLAHrZ6b16qMcoQphJjQKT5crKwnt/yGvNlQGfykIqpFIowV8AUDiJy4RpCI3W0tIiK2pzZ2cwINuBgM1YKByNqRSoVCQUAJpa24lrQ6k5qm4xpgX0SGc3AHAClqwwxqNNzUFZlRXFMAyzWKzHc+8VpnYBQO6Ja/gLAB6mqoy1jXIgy/5NUQCwzvBSGfDJNC1uFafPmBHQ1CHDMi03EovFAy0O4/0Z0+XQ0t6hSRTZJwmBsaI7WnACwWBHS5QD5xwGcpbpsKbmFqWpOajroWAwqOuvCw/WkTRKA8w+YuF60zH7tLW13fT1L//3d76n6xDonq3EWotDu83RIapIoZmLqaTkd29gxXFifO6C1taudcy004li/3YAgFLeirFvqzGcOvOS5Tff+RvLtPwf9X8wZp83fQHAeoBPlmWPpjKyCpIi0fG8FUmWKZVlnA+SJB/IW6GevBV5Yt4KlWQFKKGRcISHDsAE64HGefXwhi0AWGaUqgUAhWFqIPPqR6QRX625iqtotQl6MDBBAtDS2mpbJojGAcYdpePeUlHsCwCAcNHPgRDAeD0fT1sgkDWK6UzWsS3/BJ0UJoif+bKae1MoHeqHCR4SoxA/TBBKzD6khPwGzwHBtm2cbkqJNNg0TZEt46XO4Zx7l3RBeSkQaU6J5UjyFADE/RedCLb2coJ5hRFHRHFoFMcB754chSmtorxoWj++6cZXX3heVeW9iUwim5/eHG2LhhyXbRtM2C6bO61ZVxQ8yVBChjL5gbFsU0jvaYnibNo+lMqb5sy2ppCqTp8991s33Uwp9R6exXfWy0NKCDEMQ/CQiiXdLvGQyrKMWz+xGUTkt5fhyG8U7uEh9RtFCIN6gBIPKR4Y0dmFnzY8HjolHlK5VADwwKYYTcgm1lcDT8WoigfoOjlZwZOuIoBPKBCtlKZRxmAsl7ib8TSPK4dI8CoTxnt2R2GQk5UQEovFr7n8sr//78OqKintvVK0pTi0y00Nq4GQPG0OSJK1fzt4/BxSU5vS0u3mU+7wHsd1GWPBngU0ELQGd1tjibnLjvv5/X9BP2ajrL1+PZA6GIyPgFEqn1YObQFAcZbzA58MX605wzBQF+j5YNWTmhpK5vGe5cb1ZZmpTI4zxlwCwB3b6lt6/NlnnSXJyi9//ZtsocAYA8YOTA7OHMeev+joi7/wb0Y+9/e/PrRu2041EOKcMcbsgqHruqqqfjTapJxgqJmKKCz0dJVB46ZglNoH7IaMIiPRutcZhz1sIhm7mLbgIWN3PCTLgp7dMAxKqa7r4kOAi1MZzIn4WI5wIsNEd20NYfCrKdZV8fnznmhM0ySEyIpq5HOMiagSNXLZkcEBJaAzxggQ7gokGHAGEmMSIZZpJoYH89lMJpXEXQhzXZeDUzBy2awaCMgeuv5qwmglhnxvliJ+cTArFSpVTUDLofEaNQoeKomnbIFfmDJ8mhCmzCgENzikUoa7nw7GH1USSBMMBqLNMplMLpfD8gAiIhAMBkOhUCQSwd0WZpOWDW01Um+lTBiMIaGp8Dsqokp5I/+ZD16xb+c2WZYMqheJotk51SmCJBtKhAGJ8oLEXQAADkCgSFRDCiiOpTs5zhihtKBFHaAhZkqO2drVfduv7g+Ggk6plko9wqgT6854e/z8TyK5fgp6EEYp00ONoaFKpr9cRhpUZipvjxCIevL/XdfVNC2TyTzzzDN/+ctfXn311YGBgVQqZRiGiDESQjAeGAqF2tralixZctFFF1100UUCfVSNwahijxc4iLFmgWIU+vL2EEI445Is6cGQLEtFh3CHBQJ6WNZdDgWLAActEFDGw/JACLgOcIfLihwJRoETTqBoEc64qqmaKlNJLppFWZGFMIjVm1QYERotM56XGwMXDMVTg8evB14iZahoFCFMmR5gIrdT2dBOiXrKOzTBjxkpHeWhDuwJXoDrwdatW3/961/ff//9GzZsgLrbscce+9hjjymKwirBf6YgTMUe4a5IpzOXnfGWZP8+SQJ9+my55ASTFDk4cxGV5Pzujbx4oDokkregE4zAAfIWY99WeywV6Wj7w8rnW1rbeIlgqX5havTUeMY6r6kmzKRDVxNGrt+i3qYoytjY2H/8x3/87Gc/GxwcbOi3mqZ973vf0zRNQNMOppHJ6uARQorFom1bMjK3jGPVqCQRSinqlVKJS+KfDtQnlCQAoHwcBwOUUkkGYMy2HYEAOhixhV0bfaiGWo2BxHAV+2WBLPLCFXn1WnOc83A4/OKLL37yk59cs2bNFGR9z3vec+qpp9q2jRsCcduKQ5f10MZr7nHOHbuoaxqNxgilICuccy0Q0KIxIsmcUA6gh8NEU0TGG9d0zrgsy3K0CQgQoFySgPOAHuTgalrAMgusNJZ36EmFET2kVAgRJpZG5EekAKBbqSqjtwcHargAoKqqTz755Lvf/W4M6jTaZFn+0Ic+hECmg9yQCmy+SAsQiQJiV4g7L85h1vyFzLEliQ6k8mOG2dHZ1Rqa7bhsZyLruKx37oKALJWSqkkiV9ifKcai8e6e6RiN253IGpY7o3dWRJVBUlRVU1TVKfGcVsxRKBNGnVIBwCnooYYwNfbCQhivUSrkreilWnN42inb1wwNDZ1zzjn79u2bwswAgOnTp69evRoPZjUIe+sRps68FVmWN2/adMW5p0quwwH3HG3Fod3W6CBV5NDMRUSSjd0TCOPU0p7D7MdKTRCasZAGw4V9W51MChTl7oef7Fu0WOwT68lbqUZcDPUVACwDgPn14J8T6kGzKMvoX6MTa83xSt5JjATefPPNU54ZABDQtGg0GggE+ER/CykxgKFDMOgpAFgmjN+ZIcKz4hCPPehQJ5QWCgbnXJIpB4SSc0qppFBaWkKpLJFKhHGSPLFSkyRJMnEJlSQ5GAyKoWsIUywWscfrBEPvZA0nGIJ9hB5Yif+polGquXnK9ACeZDtv9Njx8D95jRIMBqsWAPTia0RPKpV6+OGHpzwzAGB4ZGTHjh29vb2MueFwOdgnXEcBwHoyQr1gH03T8pmUa7mODBxAZZjY6Hr5OVzHZY5LSqcViXkI4whwMk4Y57qu63AbzHRqDB2LjYJ9SH0FAMOeKnx+PUCVAoD1gH38BQAFjYp/6AklNUgJVwITq1hgTyAQwEPKwUyObDZ7++2333rrrTgQq1IAEIURQwthkP8JSoUjUBfYo+s69hQKBexBM1BKg3rw2FNOU1UZCN2fzqcK1vSZc1oWLXaYuyuRczlfeMzxmkyZyxhnEqVjRXsoa8Zb2rpm9wIHDnx3Mm867pyFR0dUyXTcaDQaDocty8KBNE2rUxhCCPI/QYMFAIUJWltbUZM4SzRNa2trE/MG3U44dLFYxF8Fg0HsqYZGgzoLAIq4ueMrAGjbdiaTwSXrYNptt90WiUS++MUvtra24kbaD3yaQuG7asAnTQsMjYxs37hBD1DgxIm0SlooOTKUNtIgySzaSSgd2LWduHasuVUPR3L5XKpgSnqTkc3u2r8dIelOpJMo2lD/nhEzZ9tsZLA/m1tICanGvCAAYGXCkAYLAIqQPc6ALVu2/Pa3v12/fn1/fz/ik3F56OnpWbJkyQknnDBjxgwASKfTtm1PAY1GqoF9Ji0AiJN02bJlr7766sFMDs7597///eeee+5Tn/rUKaecEovFWltbxRJVUZgpg31wkcxlMslEMqwTzkHTorIeKRqGnRwlshqMtBOgycTo6Wefd8kVVyuq6tr2X/7y4DPPv0hsM5cYJYQwQoLBVqoGjFzWySZNCwBINBLx42tqg328PFjQCNhHkqT/+7//u+WWWx599FHG2JIlS5YuXbpo0aKgrjuum0wmN27c+NBDDyUSiba2tgsuuODyyy/v6+sT4h0CsE81FJYXX5PJZJYvX/6LX/ziYCYHtpUrV65cuXLp0qUXXHDBySefPHfu3I6ODnw/oLTSSpKEPfhl5ZyLVRT3HLi3am9vh1LMD19NXI1xXSWEjg7tlykhVALOx0E+WGaaojuBKIqy7vlnjFw2EovnMuk9+4dkWXeBEkoJoXScn4OP/4S4Y6k0arlRsA8apiLYB6pwgimKsnLlyhUrVmSz2fe85z1f//rXFy1a5NcnY2znzp1//etf77jjjv/8z/+88MILr7/++hNOOAFj3f6vSWOcYHXWmjNN87TTTlu7du3Bzw9va21tnTVr1rx582bOnNnd3d3T09Pc3IxlmjAnB4XG4wAvBRfwr6lUCnlYcTaMjIyMjo4mk8lkMplIJMbGxqY1Raa3NXPGCYG9iXQyV+hqirRFw47rbhscdVw+p7NZkyXHtrBSU9KwBtP5eEjvaY0B55zDjuGkYVq9bc2xoFYoWh+67jPnLD9fHAcOHw8WzpLly5c/9thjp5xyysqVK4WTqlpzHOfOu+76wuc/b5rmZz/72X/9139tbm7G81ejBQAPgH28WAqYmBnhxZVomvbggw9eddVVh9C/W7GhZ0a0kjuLu66LOxXcn1qWJXw71VqHLnWEMGUclPYeKdJsJ/qdsSGiqFrXXCLJ5sB2bhroRmacy/E2paXbyY05Q7sQKKh2zqV60BrczfJjhSL7/Le/f/nVHwXOGwX7gK8aNKleohuPDJIkXXzxxatWrVqxYkX9a/b69evf9773vfbaa2efffZPf/rTeDxu23YZ2Acm2xTLeOyhEytjiw8/n1hrDifyu9/97t/97ncPPfTQ1KxeZ0O3ICr04BohnNmmyQCAj2M1XNexLYdyjomhjm0xyyYEOAAwoK4DBDhjtmVj4E3hHIA4ju2ajm2CYxVCoZBpFhsF+5BKBQD9SU0C7IPGu/LKK1etWvXUU0+Njo6K00rtdtRRRz300ENnn332Y489dsUVV/z5z3+Ox+MikccL9qmR1DSVAoDBYHBwcPCtb31rf3//QVuusdbW1nbiiScuXLiwo6MDa+Lh131oaGhgYKC/v39oaGhsbKxsSp127NGzujoc16WEDKSMVMHsiOotYd1x2a7RjMN4b2tEo8S2beCcUJI23eGcFdPV6fEgptfvTuSKtjO9KRwNqAXTvvS977v0PVcA4QFtPCtVlCVQD0UBwDLQEwC84x3vWLVq1ec+97kf/OAH9avr4YcfvuSSS1zX/cxnPvOtb32LlpheinUUADQMgySTyWquazEn/EUbAOBPf/rTBz7wgUMSWa2zXXLJJT/+8Y/xtFaxIXhuaGho165dW7Zs2bBhw+bNm3fu2hW281GVMuDAOY+2cT1MsklipEGSeHwapxIkB2LR6LzFS8OxuJFLb92+K2m61CqQ9BAQwgEg3gmKRtIjYOYLRfcDn/7sp7/4JTEnariu/ZRLdbquvSYIBAIrVqy45557Fi9evG7dOhFen7Qxxk455ZTnnnuupaVlzZo1LS0tonaAiKTUyOqWvXMCALAXPG58Wqo+J5LKETPy3ve+d+PGjd/5znemYOapteXLl9eYGQAgy3JLS0tLS8uiRYsuuOAC7MxkMh9854Uvr1ylasA5BANRJRgtGvniSEJSaCjWSQHGEiOLly5b/s73KIrmOJb78MMjL61xrWJhNIEe0nC4TVJpLpt2M+liAZKjI7bjoJsBShX28MwpekQWvCjz4A0HQqlmJZSoKEQP8VSisW1b1/VHHnnkwQcfBIDzzjuv/pkBAJTSE0444bnnnkskEhs2bHj7298u0GisRMFQURjOuWmaDRQApB5OCFw2v/KVr2zevPm+++6rX9yDaTfffPM73vGOadOmNfSraDTaM2dBMZtVFAkIGTN5znHapk2P9nS7nA8VgQHMP2ppanT4vrt+GgxHTCO/b2SUUikYa+ptOw6TXIZNbrlu96x5QcqLpt3c2iZLkheFVQ29x2oWACQeFBbxFEJ0HAexVKOjoz/60Y++853vFIvFq6666lvf+lajShNmxc1DmTCupwBgmTCKosi4NQUPIZDkqywnZmtZD6X0hz/84fbt219++eVGhZ5C27Zt23XXXXfvvfcKuEM9zbbt5PD+Yj7rKBIAcWmAEMW2TMM0OVCgQSDELBguc/Ppce48W9aIFHQdu2gZeCTjNESIZBUNwm2z6GZTSZcx4JxSCXOkyjSDloBxLtMKPcTDjEVLRQ7Rg6Aoim3b27dv/+Mf/3jnnXdu37590aJFX/7yl6+88sopKG3rtm0AoGnatGnTcJPrFcY7dFkPwwKAeBf/VBAPUw2IZtt2S0vLL3/5ywsuuGDPnj1TEL3R9sADD/zXf/3XZz/72fp/wly3f8eWXVt3KApwDsHuWWq8PTWyb3BkiCo0PPsoIskDe3axQlHABAOtbfq0WYVMNrFvBya8hXsXSsHwcH+/k06bJvTt3Yk3R8iY1/BlEL1qPeLdw1UHsZypVGrjxo2rVq3629/+tnLlStu2zzjjjBtuuOGSSy7BLWqjbWBg4NlnngGAE044YdasWbi9qCFMWc/BFgBkjM2bN++uu+667LLL8Mx2uNtXv/rVk0466eSTT67zepexvmVvae+aIUmUENI/lhszrBmz57UuWWK7bOdIyuVw9AmnlLLsCSEwmisOpo2mto6j589Gb86uRNawrAVHLwursmnZM+b0ybIU0DTLMl2XieXBrVRzj3kIljDgyUtQFYwjvvjii2vWrHn++efXrVu3e/fuQCBw3HHHfe973zvvvPPmz59/MLr66U9/ihXHP/GJT2iaJhxCSn0FAA+AfQQECMEWvFIVPoE1kkv1B3HexKKxX97zy6uvvvrIHF6OPvrolStXopt/0jY6OvrOM0/JjAzIEuWckOZOCMZ5egiyCZAU0tYLVOKje8AqjrMGcgaRFhJrByPLk/1ACAAhrTNADfDkABSyhHCL6tGZC04+8cSTTzll7ty58XgcyZZE4iFuPzEqJMLLY2NjqVQqn88PDg5u3bL11fWvbtu2bXh42Lbt5ubmvr6+k08++ZRTTlmyZElLS8vBa2n79u0nnnhiIpE455xzfve735ES3Iv4ag+SUgFAAMDjCACYpkkSiUSZe0MUAPTX4vbTcAn8GaX05ptv/trXvnbwT1VPu+aaa2699dZ6rhwZHv636z5WNPKol4FkNpkvTIuFW6O647IdQymHsVntTQFFwnJulMBoxtifzseDge6WCOccOOwaTRcsZ0ZLNBpQHcfpmjnnlHOWP7XyqXXrXhkaGmaMYYYqHggVRUGlo3c/n88XCgX05PIS70pXV9fs2bMXLFjQ19c3Z86crq4uwdR2SJrjOJdeeunDDz/c0tLy+OOP9/X14duOL7PwtRQnFgCEksODHo4CgB/72MfuvvvuQ/iQ1ZokSQ8++KA4r9Zoe/fsXHHh2XYhTygFDk6wyVFDSiEtmVmgkhlu5YRq+QR1LCCEAwcObiBkB+LUMjQjyYEAASvYxmRVMZKybdgWW3D8iXff/yDeP5/Pj46OjoyMJBKJdDqNoRPUuCzLmGQWiUTi8XgsFovH49FoVCS0Hb52ww03/Pu//zul9M4777z88ssFykSZWI2wdgFAMjIywks0XGQyZF7tUAJuQS6++OLVq1cf7ocHgIULFz777LPopa7Rdmzffv0nP0accWbZ4VwxU3RaQ2pTUHUZ25cqOIx3x3VVkjgf33OkitZo3opoSkdYw8W2P1MwHbczGgwp1HHc7tlzf/A/PxOnxDdau++++y6//HLbtq+//vqvfvWr4qRdI75TEY12KIvxYCDm1Vdfveiii5DZ4XC3G2+88Utf+lLta154bvWlp56sAlACQCDSO1Nt7ijs31kcGZZUEp59NJXk3K4NrFAkFPg4s09boHO2lRop7N0BAIxAdFafFIxkdm6wxvK2C7P7eh5du1nTAkfgGRttzz777AUXXJBKpd7//vffeeedkiRNGhnGMJs3Mozz4dCX8QqFQr/61a+uuuoqcTo6fK2np2ft2rW1d6Z7du+++yc/zowOpcfG0mPJ/ZlinlG5mIJc0mUALTNAkqz9O1jR4EjjQkCJt8nNXWBkSWZQ0TRVCxTUmA20tyXS1dEajbfMXrDwg9dcJ8tvuJVj8+bN55133u7du88+++zf/OY3+CmYchmvcbeuaZrDw8NDQ0Ojo6PYUywWsWdsbAx78vn80NDQ0NAQotBw0mAPjoGQHLzg/e9//5FRx+9//3veSLv+s5+ZO2fuLT/4wdD+/a+tW/u2t552zDFL//zHP7y27pVX17782rq1G9e/+r0bb5w/b/4111yzv39fYnRkLJl47zvf0bdg/pOPP97QWEe4DQ4OLl26FACOPvroTZs2FYtFr1GGhoYwUo9oOuzBzYdt26Ojo0NDQ8PDw7hptSxrZGRkAkyQNFilUgCfyiiXKKXf/OY3H3/88aGhocM9OZ588sl3vetd9V+P3kA9FGrv7NT1gEQp53z2vHmLFi0W16x+4UXXdYPBYGfXdMB0QkqAA+OHfS2ccsvn8ytWrHjllVdmzJhx7733LliwIJvNiuXcDxNE1E7tlaMcYNwQDVcNyOS8efM+//nPX3/99YdbKVu2bJnCrzjD1MJxr4xbqmUx/lfXJSUHMQAwNn4ZP8z4pik3zvmnPvWpRx99NBqJ3vGzO6ZPnz48PHwwRG245zhQAFBU4TskBQBzudxll112yy237N+//7DqRbAENPazUvL6hP9Va6V/bnCMI9duvvnmO++8EwBuuOGGs95+FmMsEAhUJEWdtADghHLlNWruHWStuVmzZr3zne/87//+78OqF3TjNHyqnMIS8EadGk8//TT6Hj/0oQ9d+8lrBWldRaPUpp4q83Mc4gKAXgLyfD7/1re+9XBPjkNyJqptd47/zKcyow53y+fzn/rUpwqFQk9Pz1e+8pVsNitQwBWNUsaHX+Yh5Zwj/9N4OqS3agIAkBIhlYAJYi4rlHymMLF0AfZ4QcjoV1VVVVGUxYsXa5qGx6fD1A7JPqD2LQj+M3kjrh133XUX4iWuv/76WbNmiXMlRlJECQeBTxPQHjSKpmmijgIvxVZwz14oFGQ/D4LI/xc9AhImqIb8ud4C+CSghOhmkWX5sE4OwR3QWJuCnd9460ahUMAA08yZM9/1rneJJd9fm6YsUKooiuB/EkFjPxpNFnF5x1N9jk/kCVFKBK5eLhEoRfMxYF12H0oppTSdTh/WmQEAp5xySkPYn/E20dJ1fVbeeNPjlVde2bRpEwC89a1vRXwoOjwmNRPzFADEeKTrqUYIJTqXqgUA/RifsmvAA3MCz/Iu4CSSJD377LPOxFPioW3d3d1H4LRM3qinle3bt6NpFi9ejOdP7C8zE/gAXP5r/D8hFQsA1iAWEiAzd7JacwCQzWbvuuuuQ62QA629vf3Xv/51T0/Pwd/qjbYk1NkE5hTNIaBl1Yzi7xGEW3TKBQDLepBqiHPOqhQA5Jw3NTXdfvvt69evP0x66evr++Uvf3n88cdP8fdkwv8a+ckbqM2fP1+WZcdxXn75Zdd10SheQlLRI/BpuLfwos/xE2H5CgBallW1AKDkqTXnB/tgT7Vac5qmPfHEE1//+tcPk1IuvfTSW2+9taur66DvVFpCa1/0Rj3KLlq06Kijjlq7du2zzz47MjKCFFleo6CZplAAEAGBFOOogUAA3WfFYhGphlVVxcQ9zLHE3D3sYYxhDykl95ESRwxCCdeuXXv11VfjIfvQNk3Tbrjhhvvuu+9gZwav8bfy9oY9ymqads011wBAf3//vffeG4/HqxkFexDJFQqFkDXKMAwsPhEMBtEvZRgGVizUdb1YLMpIEEMr1ZqLRqO49a2/AGBzc/P27duvuuqqnTt3HnJd9Pb23nbbbcuXLz90t3yjmbvhtmLFijvvvHP16tU33XTT8uXL29vbha+yRgFAwf/UcAFAAexASow6a83F43FZlp955pkVK1bs2LHjkGvhtNNOu/vuu2fPnn3I7wxv2s8KAOi6fuutt5511lkDAwNf//rX77nnHmGm2gUA68qyF2Q6B1NrDmt8PPDAA5///OcRC39o26WXXnrXXXehPIemTZwOb9LPCrZly5bddtttV1555b333jtr1qxvf/vbmC1w8AUAJ5Tx4pMx+1QM2aO77aabbvrud797OFITLrrool//+teHGJQ7hUXgDbhulNp73/veVCp17bXXfu9732tqavrkJz9pGMakIXuYjNnnoAoAIuXSpk2bPvWpTz322GOH47GPOeaYu++++3DDtSf5rPj+8AZsH//4xxVFufbaaxFUe/311/uppxpaOWoVAHR8tebELMGVQ5Zly7Juu+22b3zjG4cJ8RUMBm+77TYc/XVsjWJFXq/24Q9/uLW19cMf/vCXvvSl/v7+G2+8sb29HYOjUysAKONniVYqOtzU1ISnFZwlos4vYk63bNnyzW9+89577z18T3vllVeeeOKJh+XW/1hgH9EuueSSRx999IMf/OD/+3//b9euXTfffHNHR4d44Q3DEHSXYpbgyuHlIT2w58BdnkhN8J5WyqpBY2InpnPdf//9X/nKVw6G53rSpijKxz72scN197q8XxPbG39qAADAsmXLHnvssX/913/9zW9+s2XLljvuuOOkk07Cz4L3tIKzJBQKie+Ll8GYiwKAAEBKhFTMV9TeSy3d1ta2devWr371q4d1wcA2f/78o48++nDdndT4W3l7Ix9lK7a2trZf/epXJ5100pe+9KWzzz77u9/97jXXXKMoSi6Xq78AYDgcloXvq0atOSwwyRj76U9/+q1vfeuwLhiiLViw4NCmj05o/xAe0hqNEPLpT3/65JNPvvbaaz/3uc+tWrXqu9/97rx589C9IcgOvTmLZdRThmFQ9JCYpokVhFVVRT8aEg5hdiWldNu2bVdcccXHPvaxIzMzACAaOVge7Vpt4p6jrvZmWTc87YQTTnjiiSe++MUvPvDAA2eeeebvf/97ADBNE8mokAMCza2qKjpS0WVVLBY1TaOqqmqapigKRmUcx8EePIzgLuSee+4566yzjhi9E7bhkdEjNtabFOxTTwuHw9///vf/+te/hsPh973vfddee202m1VVFc2NkVtN0xC5Z1kWsoQpiuI4DsV4Lk4CZBcRPbquJxKJj3zkI1dfffXhzjDwt9WrVx9GtqBG7PyGBfvU384999xnnnnmox/96M9//vNzzz338ccfRw5MpPvFTQZOAOxBjHEF9CUvFQt65plnLrzwwnvuuefIPwwAJJPJb3/720dmrDfjktBoa21tvf322++9995EInH++ed/5zvfwa9EjZ9Q5I3EBQOnDIb/f/KTn1x44YWHD61TT7vjjjt+8pOfvI4CTGhv3nXD09797nevXr36oosuuuGGGy688MItW7agb9QtNVxCcD5QRKnjJMJpkc/nr7vuuuuuuw6PPa9jY4x9+tOfvu222w79rf+hj7K128yZM//whz9897vffeaZZ84444w77rgDPZw4AXDzYdu2qqoUd62qquLxZmxs7Nprr7399ttf70cYb5ZlXXPNNZ/73OfwXH3I2kQn2D/eUbZ2kyTpy1/+8iOPPKJp2kc+8pHvfOc7WD3ee2wpFosUSauKxSJyNlx77bVHwMHVaLvlllvOOuusxx9//PUW5B+qnXfeeU888cSyZctuvPHGj370o4yxeDxeKBTQV6brOo1Go9FoNBQK4dfkgQceeL1lrtxeeOGF8847b8WKFQdZ6oVSAsCpRAFAUcbR22VFTCRJ4h44v4Q0jBykyWqdvOlaX1/fww8/fOqpp/7+97+/7LLLdu/ejdxl4XA4n8/Lojzd7373uyPD9Tbl5jjOPffcc//9919yySVXX3316aefjtl1tdvOHTtGRkcppQSAEDKaHJMVeaC//+U1a9KplMMYIXTD+tcKhfF8QErovj17FUVOJpNrXnoJ0dtGwaSytGXz5nA4Klg6OOPhcHjhooWH97EPc+vs7Lz//vvPP//8p5566uMf//jdd9+NkPRIJEIwKNff33/88cePjIy83qI20I466qjzzz//nHPOOeqoo9rb26vlvT380F9WrlyJmROyJL3w0kv79u1dvGjxgvkL8gVj1dOrTNM89eRT4vG4yOnYtn37q+tfnTG9+7jjjmOMASFPP/302NjYCccf39XVJQBNruPOnD3z45/4xBF75MPXNm7ceMYZZ4yMjHziE5/48Y9/jHwt8tjYWCAQ+J//+Z8318wAgPXr169fv/6mm25qaWmZPn16S0sLzg+Rn4Ote/r03p5eYXhKCHCglMqKrNgy7jIxoUNcI0kUAAglohMIAIwTk4vPjSzL2Uz2Lw/9hRAiy1Imk3129bNespBxOUiprBwAuiN1XY9Go/F4vKWlpbm5uaWlpampCXEVr1dbuHDh1772tU9/+tO33377ueee+/a3v30c7OO67t/+9rfXUbKDbIlEogZw9S0nvGX2rNkiVZAx13UdkfTnMtdP4oBxR8aYSH1ijDmuW5bRTwjJ5XJILi5J0sDAwM9+fscU5A+Hw01NTZ2dnTNnzlywYMGiRYv6+vp6e3uPMMppxYoVN9100969e3/+859fcsklqVRKzmQyQ4ODuw5DJsEbpBWLBWFUzvn06dNlWcaStrIsz5o5E0OM3mvC4Uh7W1trS6s4w87s6W1uaopGo2UzSXDGYxYgIZTXxxuGeYSYlshcNjQ4tHfv3hdeeEFc0NbW1tfX95a3vOXkk09etmzZzJkzp0Im0EiLx+PHH3/83r17n3/++Z07d86aNUuORqPIXXxYB34dm2ma6PXDv86cOWvWrNmYIawoypKjjgZPjjm27unTu7umAxlPBweABQsWINilmqLQq0hqukwkSZoxY8bsWbO7pnVGYzE9oI/T0SOvvG0Xi8V8Pp9Op0cSo8NDwy+//PLf//53ANA0bfHixaeffvq55557wgkn1FnmbQpN8HmoqprL5eR0Oq0oSkdn51gqdZiGfH1bNpfrHxho2MFZ286+RiU6OjpaY4yjFh91+lvf2tHRocgy41yQG3iT3EU5CwBgjJmmmclmBgeHdu/evWPnjh/+8Ic//OEPW1tbTzvttIsvvviss86aOXNmI480SXNdFwkdent7x8sV4ov1b//2bzfffPMhHOkN1UTxm8M3BM6lahxUixYtuuL9l2PAs4F7EkKR5IIQzB7avXv3ho0btm7bxjkPhUKnnXbaZZdddt555x2SWfLII49cfPHFruvedtttH/nIR9LpNEkmk4SQXbt2nXXWWQg2/mc75G3OnDkrrrgSM+KneAtCKCGSJDHO02NjW7dtW7P25b179wJALBY74/TT3/3u95xz7jkdHR1Tu/3+/fvPPPPMzZs3X3zxxXfddReyOBFRCOFHP/rR5z//+SmK/s82WZs7Z845Z58zvauLUCoq9Eyt4RbKcZw9e/Y8+9zqDRs2YH9nZ+e55577L//yL6eddlpDJ53du3e/773vW/3c6uXLl//yl7+MRqOO49i2TTAhFpPwv/GNb/zHf/zHlIX+Z6vdZFmeN3fukiVLe3t6BOtrjU1u7UZg3J2/bdu2h//3EW8lgu7u7jPOOOP8888/+eSTax9zTNO8//77r7/++v7+/i984Qtf/epXcXlD8haC9KNQ4nD60Y9+9O1vf/t1D9b/Y7dwONwzo2f27Fnd07ubm5tFIRycKGKvWmdTFCWTydz9i18MDg36B1qwYMGxxx67dOnSuXPndnR0YI5BLpfbu3fv6tWr//jHP7722mtHH330N7/5zeXLlwvqH9yiEQyFo9sHAWBPPPHEV77ylRdffPHQaeOfrXKjhERjsfa2ts7Ozo6Ozubmplg0pus6wq/wmrJzjbfh0YZS6rrs17/99caNG2sPh84YABBlvLq7u6+77roPfvCDzc3NyM7grQRKMHOJeAoAyrKcz+d/85vf3HLLLdu3bz+Uyvhnq9kIIUE9GImEY7FYLBaPRiORSCQUDCHgRlVVSqlEKRBwGXMd1zTNXC43ODi4cfOmRrMCli1b9oEPfOA973lPa2trsVgUMYcKBQCRkQfzVlAIRVEGBwf/8Ic/3HXXXf9cRV73JlEqyfI4LyQh6M53HbfRQg6dnZ1nn3325ZdfftJJJwWDQcEcKfJWkP+Jcz5JAcBQKKQoSjabfeqpp37/+9//7W9/O/IY9H+2Q9K6urpOPfXUSy655NRTT+3s7FRVFVkDa9Bb11UAUFVVzIvct2/fk08++cgjj6xaterIlBj+ZzuYFgqFFixYcPrpp5955plLlixpa2vDEBKW+2ygACBmVYOnfIK/AKCu69gzODj4/PPPr1q16plnnlm/fv2RqTX8z1ZPa2pqmjt37rHHHnvaaactXbp02rRpuq5jHVPMeK2/AOA42AcaKQCISxD2GIaxffv2jRs3vvTSSy+99NLGjRsHBwePQGm3fzbRIpFIT0/PggULli1bdtxxxy1atAgLFmNYEXnJJy0ACL5iPMjPcaAAILplGioAqOs6QlSQXW5sbGxoaGjTpk1r16597bXXduzYgVXEXjfN/cM1XddbW1t7e3vne9rs2bPxe4EVHhVFEUVVBHfg1AoAHlg50FUq+DnEyuFnmKxYOhR3NFg+DmmQi8Xi/v37N2zYsGnTph07duzcuXPv3r3Dw8O4RL1O6n3TNF3Xm5qaOjo6uru7Z86cuXDhwrlz53Z3d2PxlEgkgvbGekic82r1XAGgnpWjIifYQa0cFUuHiklq27aoKwgA2Ww2lUqlUqlisdjf379nz56tW7fu27dvcHAwkUiMjY1ls9nDXWLhjdYCgUA4HI7FYi0tLR0dHT09PTNmzJgxY0Y0Gm1ra2tra5sxYwa+4oIeNBQKIRf51IxS/8oRjUYJOj28ZbzEl0Jw04pCOzg8oiChxDAJALjrQYFweDwGw0TKSwRgimMRPoPruoODg6lUCimIRkdHBwcH9+zZMzo6mkgkMpnM2NhYJpPBivCmaSIVwJE1YmNNkiTMVUc7YfJHJBKJRqMtLS3d3d2dnZ3t7e1Y5yoWi02fPh35dAqFgjgyQKluGua4I2FwnUYxDAO3hvUYpQYPKRkdHeW+Ml74hMji4i3HhMP7SbUxXwo81dKLxSJujJEXG6qT5eLGWFxDSiXgUdGpVAr5uRVFQeKzgYEBXGOQjTWZTCYSCVwnMWkvm80i44jI7MMYIzL2Y/jAdV3whDFIyRUNhCCmCxuaGbk0NU1DPnjkbcZFG+mhm5qaWlpaYrGYqqpIINzR0dHa2orU0uhZisfj+IxYTIlzjh9iPAqIIwMGNfy11cQbhUZxXRfnhN8oovjSpEZBIuwaDMb/P/qX9Pho/tyRAAAAAElFTkSuQmCC\" class=\"ndarray_image_preview\" /><pre class=\"ndarray_raw_data\">array([[[254, 254, 254],\n",
              "        [253, 253, 253],\n",
              "        [251, 251, 251],\n",
              "        ...,\n",
              "        [253, 253, 253],\n",
              "        [252, 252, 252],\n",
              "        [233, 233, 233]],\n",
              "\n",
              "       [[234, 234, 234],\n",
              "        [233, 233, 233],\n",
              "        [236, 236, 236],\n",
              "        ...,\n",
              "        [233, 233, 233],\n",
              "        [235, 235, 235],\n",
              "        [249, 249, 249]],\n",
              "\n",
              "       [[250, 250, 250],\n",
              "        [250, 250, 250],\n",
              "        [249, 249, 249],\n",
              "        ...,\n",
              "        [250, 250, 250],\n",
              "        [249, 249, 249],\n",
              "        [235, 235, 235]],\n",
              "\n",
              "       ...,\n",
              "\n",
              "       [[234, 234, 234],\n",
              "        [233, 233, 233],\n",
              "        [236, 236, 236],\n",
              "        ...,\n",
              "        [233, 233, 233],\n",
              "        [235, 235, 235],\n",
              "        [249, 249, 249]],\n",
              "\n",
              "       [[251, 251, 251],\n",
              "        [250, 250, 250],\n",
              "        [248, 248, 248],\n",
              "        ...,\n",
              "        [250, 250, 250],\n",
              "        [249, 249, 249],\n",
              "        [236, 236, 236]],\n",
              "\n",
              "       [[236, 236, 236],\n",
              "        [235, 235, 235],\n",
              "        [237, 237, 237],\n",
              "        ...,\n",
              "        [235, 235, 235],\n",
              "        [236, 236, 236],\n",
              "        [248, 248, 248]]], dtype=uint8)</pre></div><script>\n",
              "      (() => {\n",
              "      const titles = ['show data', 'hide data'];\n",
              "      let index = 0\n",
              "      document.querySelector('#id-76e481fb-2444-4664-89d1-ea41687ebc31 button').onclick = (e) => {\n",
              "        document.querySelector('#id-76e481fb-2444-4664-89d1-ea41687ebc31').classList.toggle('show_array');\n",
              "        index = (++index) % 2;\n",
              "        document.querySelector('#id-76e481fb-2444-4664-89d1-ea41687ebc31 button').textContent = titles[index];\n",
              "        e.preventDefault();\n",
              "        e.stopPropagation();\n",
              "      }\n",
              "      })();\n",
              "    </script>"
            ]
          },
          "metadata": {},
          "execution_count": 478
        }
      ]
    },
    {
      "cell_type": "code",
      "source": [
        "def verificar_imgs(directory):\n",
        "    for filename in os.listdir(directory):\n",
        "        file_path = os.path.join(directory, filename)\n",
        "        try:\n",
        "            with Image.open(file_path) as img:\n",
        "                # Imprime el tamaño y formato de cada imagen\n",
        "                print(f'Imagen: {filename}, Tamaño: {img.size}, Formato: {img.mode}')\n",
        "        except Exception as e:\n",
        "            print(f'Error al procesar {filename}: {e}')\n",
        "\n",
        "# Llama a la función para verificar las imágenes\n",
        "verificar_imgs(folder_path)"
      ],
      "metadata": {
        "colab": {
          "base_uri": "https://localhost:8080/"
        },
        "collapsed": true,
        "id": "qQBCJeSyPFLT",
        "outputId": "80724667-b0d3-4452-f780-4a34838d6fc3"
      },
      "execution_count": null,
      "outputs": [
        {
          "output_type": "stream",
          "name": "stdout",
          "text": [
            "Imagen: bajo14.jpg, Tamaño: (1200, 675), Formato: RGB\n",
            "Imagen: bajo19.jpg, Tamaño: (1280, 720), Formato: RGB\n",
            "Imagen: bajo7.jpg, Tamaño: (1368, 768), Formato: RGB\n",
            "Imagen: bajo8.jpg, Tamaño: (219, 500), Formato: RGB\n",
            "Imagen: bajo13.jpg, Tamaño: (460, 500), Formato: RGB\n",
            "Imagen: bajo18.jpg, Tamaño: (650, 650), Formato: RGB\n",
            "Imagen: bajo4.jpg, Tamaño: (770, 425), Formato: RGB\n",
            "Imagen: bajo20.jpg, Tamaño: (1200, 1600), Formato: RGB\n",
            "Imagen: bajo10.jpg, Tamaño: (240, 320), Formato: RGB\n",
            "Imagen: bajo6.jpg, Tamaño: (299, 168), Formato: RGB\n",
            "Imagen: bajo1.jpg, Tamaño: (980, 980), Formato: RGB\n",
            "Imagen: bajo5.jpg, Tamaño: (275, 183), Formato: RGB\n",
            "Imagen: guitarraE1.jpg, Tamaño: (1024, 1024), Formato: RGB\n",
            "Imagen: guitarraE3.jpg, Tamaño: (770, 422), Formato: RGB\n",
            "Imagen: guitarraE4.jpg, Tamaño: (900, 1200), Formato: RGB\n",
            "Imagen: guitarraE6.jpg, Tamaño: (625, 750), Formato: RGB\n",
            "Imagen: guitarraE7.jpg, Tamaño: (550, 309), Formato: RGB\n",
            "Imagen: guitarraE9.jpg, Tamaño: (686, 386), Formato: RGB\n",
            "Imagen: guitarraE10.jpg, Tamaño: (1023, 682), Formato: RGB\n",
            "Imagen: guitarraE11.jpg, Tamaño: (800, 800), Formato: RGB\n",
            "Imagen: guitarraE12.jpg, Tamaño: (331, 976), Formato: RGB\n",
            "Imagen: guitarraE13.jpg, Tamaño: (1200, 675), Formato: RGB\n",
            "Imagen: guitarraE14.jpg, Tamaño: (710, 856), Formato: RGB\n",
            "Imagen: guitarraE15.jpg, Tamaño: (1400, 1050), Formato: RGB\n",
            "Imagen: guitarraE16.jpg, Tamaño: (1000, 316), Formato: RGB\n",
            "Imagen: guitarraE19.jpg, Tamaño: (460, 345), Formato: RGB\n",
            "Imagen: guitarraE20.jpg, Tamaño: (674, 280), Formato: RGB\n",
            "Imagen: guitarra1.jpg, Tamaño: (800, 800), Formato: RGB\n",
            "Imagen: guitarra2.jpg, Tamaño: (513, 655), Formato: RGB\n",
            "Imagen: guitarra3.jpg, Tamaño: (1060, 704), Formato: RGB\n",
            "Imagen: guitarra5.jpg, Tamaño: (1200, 675), Formato: RGB\n",
            "Imagen: guitarra6.jpg, Tamaño: (1080, 1080), Formato: RGB\n",
            "Imagen: guitarra7.jpg, Tamaño: (415, 500), Formato: RGB\n",
            "Imagen: guitarra8.jpg, Tamaño: (500, 498), Formato: RGB\n",
            "Imagen: guitarra11.jpg, Tamaño: (600, 450), Formato: RGB\n",
            "Imagen: guitarra12.jpg, Tamaño: (1024, 683), Formato: RGB\n",
            "Imagen: guitarra13.jpg, Tamaño: (600, 397), Formato: RGB\n",
            "Imagen: guitarra15.jpg, Tamaño: (2560, 1707), Formato: RGB\n",
            "Imagen: guitarra16.jpg, Tamaño: (451, 1000), Formato: RGB\n",
            "Imagen: guitarra17.jpg, Tamaño: (396, 1000), Formato: RGB\n",
            "Imagen: guitarra18.jpg, Tamaño: (214, 500), Formato: RGB\n",
            "Imagen: guitarra19.jpg, Tamaño: (382, 973), Formato: RGB\n",
            "Imagen: guitarra9.jpg, Tamaño: (331, 495), Formato: RGB\n",
            "Imagen: guitarra14.jpg, Tamaño: (480, 640), Formato: RGB\n",
            "Imagen: violin1.jpg, Tamaño: (800, 800), Formato: RGB\n",
            "Imagen: violin2.jpg, Tamaño: (658, 1024), Formato: RGB\n",
            "Imagen: violin4.jpg, Tamaño: (668, 900), Formato: RGB\n",
            "Imagen: violin6.jpg, Tamaño: (750, 1150), Formato: RGB\n",
            "Imagen: violin7.jpg, Tamaño: (534, 534), Formato: RGB\n",
            "Imagen: violin8.jpg, Tamaño: (309, 163), Formato: RGB\n",
            "Imagen: violin9.jpg, Tamaño: (1029, 704), Formato: RGB\n",
            "Imagen: violin11.jpg, Tamaño: (626, 417), Formato: RGB\n",
            "Imagen: violin12.jpg, Tamaño: (1000, 521), Formato: RGB\n",
            "Imagen: violin15.jpg, Tamaño: (194, 259), Formato: RGB\n",
            "Imagen: violin5.jpg, Tamaño: (650, 650), Formato: RGB\n",
            "Imagen: violin14.jpg, Tamaño: (225, 225), Formato: RGB\n",
            "Imagen: violin16.jpg, Tamaño: (480, 360), Formato: RGB\n",
            "Imagen: violin17.jpg, Tamaño: (480, 360), Formato: RGB\n",
            "Imagen: cello3.jpg, Tamaño: (225, 225), Formato: RGB\n",
            "Imagen: cello4.jpg, Tamaño: (590, 885), Formato: RGB\n",
            "Imagen: cello5.jpg, Tamaño: (325, 416), Formato: RGB\n",
            "Imagen: cello6.jpg, Tamaño: (1200, 1600), Formato: RGB\n",
            "Imagen: cello7.jpg, Tamaño: (350, 400), Formato: RGB\n",
            "Imagen: cello8.jpg, Tamaño: (885, 1600), Formato: RGB\n",
            "Imagen: cello9.jpg, Tamaño: (1139, 1600), Formato: RGB\n",
            "Imagen: cello10.jpg, Tamaño: (220, 330), Formato: RGB\n",
            "Imagen: cello11.jpg, Tamaño: (750, 900), Formato: RGB\n",
            "Imagen: cello13.jpg, Tamaño: (480, 480), Formato: RGB\n",
            "Imagen: cello14.jpg, Tamaño: (980, 980), Formato: RGB\n",
            "Imagen: cello15.jpg, Tamaño: (431, 612), Formato: RGB\n",
            "Imagen: cello2.jpg, Tamaño: (1000, 997), Formato: RGB\n",
            "Imagen: bajo9.jpg, Tamaño: (779, 1300), Formato: RGB\n",
            "Imagen: bajo11.jpg, Tamaño: (360, 450), Formato: RGB\n",
            "Imagen: cello12.jpg, Tamaño: (1600, 1690), Formato: RGB\n",
            "Imagen: cello16.jpg, Tamaño: (183, 275), Formato: RGB\n",
            "Imagen: cello17.jpg, Tamaño: (1067, 1690), Formato: RGB\n",
            "Imagen: cello19.jpg, Tamaño: (663, 900), Formato: RGB\n",
            "Imagen: cello20.jpg, Tamaño: (640, 640), Formato: RGB\n",
            "Imagen: guitarra10.jpg, Tamaño: (2052, 2052), Formato: RGB\n",
            "Imagen: bajo17.jpg, Tamaño: (1024, 720), Formato: RGB\n",
            "Imagen: guitarraE18.jpg, Tamaño: (901, 1300), Formato: RGB\n",
            "Imagen: violin18.jpg, Tamaño: (198, 255), Formato: RGB\n",
            "Imagen: violin20.jpg, Tamaño: (225, 225), Formato: RGB\n",
            "Imagen: bajo3.jpg, Tamaño: (602, 400), Formato: RGB\n",
            "Imagen: bajo16.jpg, Tamaño: (800, 484), Formato: RGB\n",
            "Imagen: cello1.jpg, Tamaño: (1000, 1000), Formato: RGB\n",
            "Imagen: violin3.jpg, Tamaño: (980, 980), Formato: RGB\n",
            "Imagen: violin13.jpg, Tamaño: (260, 280), Formato: RGB\n",
            "Imagen: bajo2.jpg, Tamaño: (450, 300), Formato: RGB\n",
            "Imagen: bajo15.jpg, Tamaño: (2048, 1367), Formato: RGB\n",
            "Imagen: cello18.jpg, Tamaño: (275, 183), Formato: RGB\n",
            "Imagen: guitarra4.jpg, Tamaño: (274, 184), Formato: RGB\n",
            "Imagen: guitarraE8.jpg, Tamaño: (800, 669), Formato: RGB\n",
            "Imagen: guitarraE5.jpg, Tamaño: (1300, 618), Formato: RGB\n",
            "Imagen: guitarra20.jpg, Tamaño: (800, 800), Formato: RGB\n",
            "Imagen: guitarraE17.jpg, Tamaño: (1944, 640), Formato: RGB\n",
            "Imagen: violin19.jpg, Tamaño: (640, 640), Formato: RGB\n",
            "Imagen: violin10.jpg, Tamaño: (640, 290), Formato: RGB\n",
            "Imagen: guitarraE2.jpg, Tamaño: (808, 562), Formato: RGB\n",
            "Imagen: bajo12.jpg, Tamaño: (920, 2547), Formato: RGB\n"
          ]
        }
      ]
    },
    {
      "cell_type": "code",
      "source": [
        "from sklearn.model_selection import train_test_split\n",
        "X_train, X_test, y_train, y_test = train_test_split(image_list, y, test_size=0.2, random_state=43, stratify=y)"
      ],
      "metadata": {
        "id": "OZE5YL1ngBwF"
      },
      "execution_count": null,
      "outputs": []
    },
    {
      "cell_type": "code",
      "source": [
        "#Carga de librerias\n",
        "import keras\n",
        "from keras.models import Sequential\n",
        "from keras.layers import Dense, Flatten\n",
        "#Se establece una semilla para evitar distintos resultados\n",
        "keras.utils.set_random_seed(812)\n",
        "#Se establece un modelo neuronal\n",
        "model = Sequential()\n",
        "model.add(Flatten(input_shape=(244, 244, 3)))  # Aplanar la imagen\n",
        "model.add(Dense(128, activation='relu'))\n",
        "model.add(Dense(64, activation='relu'))\n",
        "#model.add(Dense(, activation='relu'))\n",
        "model.add(Dense(5, activation='softmax')) #5 es el numero de clases"
      ],
      "metadata": {
        "colab": {
          "base_uri": "https://localhost:8080/"
        },
        "id": "zQ1hUrWVgFRM",
        "outputId": "27ec9f6d-8ce8-40a5-e6d7-ba86a61bdce8",
        "collapsed": true
      },
      "execution_count": null,
      "outputs": [
        {
          "output_type": "stream",
          "name": "stderr",
          "text": [
            "/usr/local/lib/python3.10/dist-packages/keras/src/layers/reshaping/flatten.py:37: UserWarning: Do not pass an `input_shape`/`input_dim` argument to a layer. When using Sequential models, prefer using an `Input(shape)` object as the first layer in the model instead.\n",
            "  super().__init__(**kwargs)\n"
          ]
        }
      ]
    },
    {
      "cell_type": "code",
      "source": [
        "#Se compila el modelo\n",
        "model.compile(optimizer='adam', loss='categorical_crossentropy', metrics=['accuracy'])"
      ],
      "metadata": {
        "id": "NuTQFkvkgIm3"
      },
      "execution_count": null,
      "outputs": []
    },
    {
      "cell_type": "code",
      "source": [
        "y_train"
      ],
      "metadata": {
        "collapsed": true,
        "colab": {
          "base_uri": "https://localhost:8080/"
        },
        "id": "rgLDCECh6-9O",
        "outputId": "f79333fb-d114-4e62-b27c-a2fba98ddb6a"
      },
      "execution_count": null,
      "outputs": [
        {
          "output_type": "execute_result",
          "data": {
            "text/plain": [
              "[2,\n",
              " 1,\n",
              " 4,\n",
              " 4,\n",
              " 0,\n",
              " 1,\n",
              " 2,\n",
              " 1,\n",
              " 2,\n",
              " 2,\n",
              " 2,\n",
              " 0,\n",
              " 2,\n",
              " 4,\n",
              " 2,\n",
              " 4,\n",
              " 2,\n",
              " 4,\n",
              " 0,\n",
              " 0,\n",
              " 0,\n",
              " 2,\n",
              " 4,\n",
              " 1,\n",
              " 4,\n",
              " 2,\n",
              " 0,\n",
              " 4,\n",
              " 2,\n",
              " 1,\n",
              " 2,\n",
              " 2,\n",
              " 0,\n",
              " 1,\n",
              " 1,\n",
              " 0,\n",
              " 2,\n",
              " 1,\n",
              " 4,\n",
              " 2,\n",
              " 1,\n",
              " 2,\n",
              " 2,\n",
              " 4,\n",
              " 1,\n",
              " 0,\n",
              " 2,\n",
              " 1,\n",
              " 1,\n",
              " 2,\n",
              " 2,\n",
              " 2,\n",
              " 2,\n",
              " 1,\n",
              " 4,\n",
              " 2,\n",
              " 0,\n",
              " 2,\n",
              " 2,\n",
              " 1,\n",
              " 4,\n",
              " 0,\n",
              " 0,\n",
              " 2,\n",
              " 4,\n",
              " 4,\n",
              " 4,\n",
              " 2,\n",
              " 2,\n",
              " 2,\n",
              " 0,\n",
              " 1,\n",
              " 0,\n",
              " 2,\n",
              " 1,\n",
              " 0,\n",
              " 4,\n",
              " 2,\n",
              " 2,\n",
              " 0]"
            ]
          },
          "metadata": {},
          "execution_count": 483
        }
      ]
    },
    {
      "cell_type": "code",
      "source": [
        "#Cambiamos la forma\n",
        "X_train = np.array(X_train)\n",
        "y_train = np.array(y_train)"
      ],
      "metadata": {
        "id": "BCECzNqrgN9J"
      },
      "execution_count": null,
      "outputs": []
    },
    {
      "cell_type": "code",
      "source": [
        "y_train = keras.utils.to_categorical(y_train, num_classes=5)\n",
        "y_train"
      ],
      "metadata": {
        "colab": {
          "base_uri": "https://localhost:8080/"
        },
        "collapsed": true,
        "id": "gNcbz6_LhGnR",
        "outputId": "e6252f6f-bb37-472b-9554-3e5667d3ab4a"
      },
      "execution_count": null,
      "outputs": [
        {
          "output_type": "execute_result",
          "data": {
            "text/plain": [
              "array([[0., 0., 1., 0., 0.],\n",
              "       [0., 1., 0., 0., 0.],\n",
              "       [0., 0., 0., 0., 1.],\n",
              "       [0., 0., 0., 0., 1.],\n",
              "       [1., 0., 0., 0., 0.],\n",
              "       [0., 1., 0., 0., 0.],\n",
              "       [0., 0., 1., 0., 0.],\n",
              "       [0., 1., 0., 0., 0.],\n",
              "       [0., 0., 1., 0., 0.],\n",
              "       [0., 0., 1., 0., 0.],\n",
              "       [0., 0., 1., 0., 0.],\n",
              "       [1., 0., 0., 0., 0.],\n",
              "       [0., 0., 1., 0., 0.],\n",
              "       [0., 0., 0., 0., 1.],\n",
              "       [0., 0., 1., 0., 0.],\n",
              "       [0., 0., 0., 0., 1.],\n",
              "       [0., 0., 1., 0., 0.],\n",
              "       [0., 0., 0., 0., 1.],\n",
              "       [1., 0., 0., 0., 0.],\n",
              "       [1., 0., 0., 0., 0.],\n",
              "       [1., 0., 0., 0., 0.],\n",
              "       [0., 0., 1., 0., 0.],\n",
              "       [0., 0., 0., 0., 1.],\n",
              "       [0., 1., 0., 0., 0.],\n",
              "       [0., 0., 0., 0., 1.],\n",
              "       [0., 0., 1., 0., 0.],\n",
              "       [1., 0., 0., 0., 0.],\n",
              "       [0., 0., 0., 0., 1.],\n",
              "       [0., 0., 1., 0., 0.],\n",
              "       [0., 1., 0., 0., 0.],\n",
              "       [0., 0., 1., 0., 0.],\n",
              "       [0., 0., 1., 0., 0.],\n",
              "       [1., 0., 0., 0., 0.],\n",
              "       [0., 1., 0., 0., 0.],\n",
              "       [0., 1., 0., 0., 0.],\n",
              "       [1., 0., 0., 0., 0.],\n",
              "       [0., 0., 1., 0., 0.],\n",
              "       [0., 1., 0., 0., 0.],\n",
              "       [0., 0., 0., 0., 1.],\n",
              "       [0., 0., 1., 0., 0.],\n",
              "       [0., 1., 0., 0., 0.],\n",
              "       [0., 0., 1., 0., 0.],\n",
              "       [0., 0., 1., 0., 0.],\n",
              "       [0., 0., 0., 0., 1.],\n",
              "       [0., 1., 0., 0., 0.],\n",
              "       [1., 0., 0., 0., 0.],\n",
              "       [0., 0., 1., 0., 0.],\n",
              "       [0., 1., 0., 0., 0.],\n",
              "       [0., 1., 0., 0., 0.],\n",
              "       [0., 0., 1., 0., 0.],\n",
              "       [0., 0., 1., 0., 0.],\n",
              "       [0., 0., 1., 0., 0.],\n",
              "       [0., 0., 1., 0., 0.],\n",
              "       [0., 1., 0., 0., 0.],\n",
              "       [0., 0., 0., 0., 1.],\n",
              "       [0., 0., 1., 0., 0.],\n",
              "       [1., 0., 0., 0., 0.],\n",
              "       [0., 0., 1., 0., 0.],\n",
              "       [0., 0., 1., 0., 0.],\n",
              "       [0., 1., 0., 0., 0.],\n",
              "       [0., 0., 0., 0., 1.],\n",
              "       [1., 0., 0., 0., 0.],\n",
              "       [1., 0., 0., 0., 0.],\n",
              "       [0., 0., 1., 0., 0.],\n",
              "       [0., 0., 0., 0., 1.],\n",
              "       [0., 0., 0., 0., 1.],\n",
              "       [0., 0., 0., 0., 1.],\n",
              "       [0., 0., 1., 0., 0.],\n",
              "       [0., 0., 1., 0., 0.],\n",
              "       [0., 0., 1., 0., 0.],\n",
              "       [1., 0., 0., 0., 0.],\n",
              "       [0., 1., 0., 0., 0.],\n",
              "       [1., 0., 0., 0., 0.],\n",
              "       [0., 0., 1., 0., 0.],\n",
              "       [0., 1., 0., 0., 0.],\n",
              "       [1., 0., 0., 0., 0.],\n",
              "       [0., 0., 0., 0., 1.],\n",
              "       [0., 0., 1., 0., 0.],\n",
              "       [0., 0., 1., 0., 0.],\n",
              "       [1., 0., 0., 0., 0.]])"
            ]
          },
          "metadata": {},
          "execution_count": 485
        }
      ]
    },
    {
      "cell_type": "code",
      "source": [
        "X_train.shape"
      ],
      "metadata": {
        "colab": {
          "base_uri": "https://localhost:8080/"
        },
        "id": "1QdGSREzU4u5",
        "outputId": "76b0f1e7-466e-43a7-f83f-9943215978b5"
      },
      "execution_count": null,
      "outputs": [
        {
          "output_type": "execute_result",
          "data": {
            "text/plain": [
              "(80, 180, 180, 3)"
            ]
          },
          "metadata": {},
          "execution_count": 486
        }
      ]
    },
    {
      "cell_type": "code",
      "source": [
        "y_train.shape"
      ],
      "metadata": {
        "colab": {
          "base_uri": "https://localhost:8080/"
        },
        "id": "MOW_JZYt7WAK",
        "outputId": "c5eb2ff1-f1cc-4f1e-8cce-9fa8a9d54613"
      },
      "execution_count": null,
      "outputs": [
        {
          "output_type": "execute_result",
          "data": {
            "text/plain": [
              "(80, 5)"
            ]
          },
          "metadata": {},
          "execution_count": 487
        }
      ]
    },
    {
      "cell_type": "code",
      "source": [
        "type(y_train)"
      ],
      "metadata": {
        "colab": {
          "base_uri": "https://localhost:8080/"
        },
        "id": "HDjYZYwnVewH",
        "outputId": "a08a7219-0ac0-4498-8420-6919e74cf7d0"
      },
      "execution_count": null,
      "outputs": [
        {
          "output_type": "execute_result",
          "data": {
            "text/plain": [
              "numpy.ndarray"
            ]
          },
          "metadata": {},
          "execution_count": 488
        }
      ]
    },
    {
      "cell_type": "code",
      "source": [
        "y_train"
      ],
      "metadata": {
        "colab": {
          "base_uri": "https://localhost:8080/"
        },
        "id": "seoN_vOXVhH3",
        "outputId": "15c2ad23-e064-47b2-e241-8722b151e287",
        "collapsed": true
      },
      "execution_count": null,
      "outputs": [
        {
          "output_type": "execute_result",
          "data": {
            "text/plain": [
              "array([[0., 0., 1., 0., 0.],\n",
              "       [0., 1., 0., 0., 0.],\n",
              "       [0., 0., 0., 0., 1.],\n",
              "       [0., 0., 0., 0., 1.],\n",
              "       [1., 0., 0., 0., 0.],\n",
              "       [0., 1., 0., 0., 0.],\n",
              "       [0., 0., 1., 0., 0.],\n",
              "       [0., 1., 0., 0., 0.],\n",
              "       [0., 0., 1., 0., 0.],\n",
              "       [0., 0., 1., 0., 0.],\n",
              "       [0., 0., 1., 0., 0.],\n",
              "       [1., 0., 0., 0., 0.],\n",
              "       [0., 0., 1., 0., 0.],\n",
              "       [0., 0., 0., 0., 1.],\n",
              "       [0., 0., 1., 0., 0.],\n",
              "       [0., 0., 0., 0., 1.],\n",
              "       [0., 0., 1., 0., 0.],\n",
              "       [0., 0., 0., 0., 1.],\n",
              "       [1., 0., 0., 0., 0.],\n",
              "       [1., 0., 0., 0., 0.],\n",
              "       [1., 0., 0., 0., 0.],\n",
              "       [0., 0., 1., 0., 0.],\n",
              "       [0., 0., 0., 0., 1.],\n",
              "       [0., 1., 0., 0., 0.],\n",
              "       [0., 0., 0., 0., 1.],\n",
              "       [0., 0., 1., 0., 0.],\n",
              "       [1., 0., 0., 0., 0.],\n",
              "       [0., 0., 0., 0., 1.],\n",
              "       [0., 0., 1., 0., 0.],\n",
              "       [0., 1., 0., 0., 0.],\n",
              "       [0., 0., 1., 0., 0.],\n",
              "       [0., 0., 1., 0., 0.],\n",
              "       [1., 0., 0., 0., 0.],\n",
              "       [0., 1., 0., 0., 0.],\n",
              "       [0., 1., 0., 0., 0.],\n",
              "       [1., 0., 0., 0., 0.],\n",
              "       [0., 0., 1., 0., 0.],\n",
              "       [0., 1., 0., 0., 0.],\n",
              "       [0., 0., 0., 0., 1.],\n",
              "       [0., 0., 1., 0., 0.],\n",
              "       [0., 1., 0., 0., 0.],\n",
              "       [0., 0., 1., 0., 0.],\n",
              "       [0., 0., 1., 0., 0.],\n",
              "       [0., 0., 0., 0., 1.],\n",
              "       [0., 1., 0., 0., 0.],\n",
              "       [1., 0., 0., 0., 0.],\n",
              "       [0., 0., 1., 0., 0.],\n",
              "       [0., 1., 0., 0., 0.],\n",
              "       [0., 1., 0., 0., 0.],\n",
              "       [0., 0., 1., 0., 0.],\n",
              "       [0., 0., 1., 0., 0.],\n",
              "       [0., 0., 1., 0., 0.],\n",
              "       [0., 0., 1., 0., 0.],\n",
              "       [0., 1., 0., 0., 0.],\n",
              "       [0., 0., 0., 0., 1.],\n",
              "       [0., 0., 1., 0., 0.],\n",
              "       [1., 0., 0., 0., 0.],\n",
              "       [0., 0., 1., 0., 0.],\n",
              "       [0., 0., 1., 0., 0.],\n",
              "       [0., 1., 0., 0., 0.],\n",
              "       [0., 0., 0., 0., 1.],\n",
              "       [1., 0., 0., 0., 0.],\n",
              "       [1., 0., 0., 0., 0.],\n",
              "       [0., 0., 1., 0., 0.],\n",
              "       [0., 0., 0., 0., 1.],\n",
              "       [0., 0., 0., 0., 1.],\n",
              "       [0., 0., 0., 0., 1.],\n",
              "       [0., 0., 1., 0., 0.],\n",
              "       [0., 0., 1., 0., 0.],\n",
              "       [0., 0., 1., 0., 0.],\n",
              "       [1., 0., 0., 0., 0.],\n",
              "       [0., 1., 0., 0., 0.],\n",
              "       [1., 0., 0., 0., 0.],\n",
              "       [0., 0., 1., 0., 0.],\n",
              "       [0., 1., 0., 0., 0.],\n",
              "       [1., 0., 0., 0., 0.],\n",
              "       [0., 0., 0., 0., 1.],\n",
              "       [0., 0., 1., 0., 0.],\n",
              "       [0., 0., 1., 0., 0.],\n",
              "       [1., 0., 0., 0., 0.]])"
            ]
          },
          "metadata": {},
          "execution_count": 489
        }
      ]
    },
    {
      "cell_type": "code",
      "source": [
        "#Ajustamos(\"Entrenamos\") el modelo al conjunto de datos\n",
        "%time model.fit(X_train,y_train,epochs=100)"
      ],
      "metadata": {
        "colab": {
          "base_uri": "https://localhost:8080/"
        },
        "id": "qtgYmzV8VnsI",
        "outputId": "83d0aa11-1169-4d2d-ca40-932a26aba2c7"
      },
      "execution_count": null,
      "outputs": [
        {
          "output_type": "stream",
          "name": "stdout",
          "text": [
            "Epoch 1/100\n",
            "\u001b[1m3/3\u001b[0m \u001b[32m━━━━━━━━━━━━━━━━━━━━\u001b[0m\u001b[37m\u001b[0m \u001b[1m4s\u001b[0m 440ms/step - accuracy: 0.1461 - loss: 19.3610\n",
            "Epoch 2/100\n",
            "\u001b[1m3/3\u001b[0m \u001b[32m━━━━━━━━━━━━━━━━━━━━\u001b[0m\u001b[37m\u001b[0m \u001b[1m1s\u001b[0m 305ms/step - accuracy: 0.2766 - loss: 29.9284\n",
            "Epoch 3/100\n",
            "\u001b[1m3/3\u001b[0m \u001b[32m━━━━━━━━━━━━━━━━━━━━\u001b[0m\u001b[37m\u001b[0m \u001b[1m1s\u001b[0m 247ms/step - accuracy: 0.3477 - loss: 30.0348\n",
            "Epoch 4/100\n",
            "\u001b[1m3/3\u001b[0m \u001b[32m━━━━━━━━━━━━━━━━━━━━\u001b[0m\u001b[37m\u001b[0m \u001b[1m1s\u001b[0m 246ms/step - accuracy: 0.3953 - loss: 21.8195\n",
            "Epoch 5/100\n",
            "\u001b[1m3/3\u001b[0m \u001b[32m━━━━━━━━━━━━━━━━━━━━\u001b[0m\u001b[37m\u001b[0m \u001b[1m1s\u001b[0m 251ms/step - accuracy: 0.3703 - loss: 6.9501\n",
            "Epoch 6/100\n",
            "\u001b[1m3/3\u001b[0m \u001b[32m━━━━━━━━━━━━━━━━━━━━\u001b[0m\u001b[37m\u001b[0m \u001b[1m1s\u001b[0m 247ms/step - accuracy: 0.5063 - loss: 6.3998\n",
            "Epoch 7/100\n",
            "\u001b[1m3/3\u001b[0m \u001b[32m━━━━━━━━━━━━━━━━━━━━\u001b[0m\u001b[37m\u001b[0m \u001b[1m1s\u001b[0m 247ms/step - accuracy: 0.3547 - loss: 6.4340\n",
            "Epoch 8/100\n",
            "\u001b[1m3/3\u001b[0m \u001b[32m━━━━━━━━━━━━━━━━━━━━\u001b[0m\u001b[37m\u001b[0m \u001b[1m1s\u001b[0m 243ms/step - accuracy: 0.5273 - loss: 6.7105\n",
            "Epoch 9/100\n",
            "\u001b[1m3/3\u001b[0m \u001b[32m━━━━━━━━━━━━━━━━━━━━\u001b[0m\u001b[37m\u001b[0m \u001b[1m1s\u001b[0m 246ms/step - accuracy: 0.5805 - loss: 2.4843\n",
            "Epoch 10/100\n",
            "\u001b[1m3/3\u001b[0m \u001b[32m━━━━━━━━━━━━━━━━━━━━\u001b[0m\u001b[37m\u001b[0m \u001b[1m1s\u001b[0m 251ms/step - accuracy: 0.5977 - loss: 4.1352\n",
            "Epoch 11/100\n",
            "\u001b[1m3/3\u001b[0m \u001b[32m━━━━━━━━━━━━━━━━━━━━\u001b[0m\u001b[37m\u001b[0m \u001b[1m1s\u001b[0m 256ms/step - accuracy: 0.7164 - loss: 1.3143\n",
            "Epoch 12/100\n",
            "\u001b[1m3/3\u001b[0m \u001b[32m━━━━━━━━━━━━━━━━━━━━\u001b[0m\u001b[37m\u001b[0m \u001b[1m1s\u001b[0m 253ms/step - accuracy: 0.6289 - loss: 2.8416\n",
            "Epoch 13/100\n",
            "\u001b[1m3/3\u001b[0m \u001b[32m━━━━━━━━━━━━━━━━━━━━\u001b[0m\u001b[37m\u001b[0m \u001b[1m1s\u001b[0m 336ms/step - accuracy: 0.6539 - loss: 2.3151\n",
            "Epoch 14/100\n",
            "\u001b[1m3/3\u001b[0m \u001b[32m━━━━━━━━━━━━━━━━━━━━\u001b[0m\u001b[37m\u001b[0m \u001b[1m1s\u001b[0m 369ms/step - accuracy: 0.6141 - loss: 2.6220\n",
            "Epoch 15/100\n",
            "\u001b[1m3/3\u001b[0m \u001b[32m━━━━━━━━━━━━━━━━━━━━\u001b[0m\u001b[37m\u001b[0m \u001b[1m1s\u001b[0m 415ms/step - accuracy: 0.7375 - loss: 0.8891\n",
            "Epoch 16/100\n",
            "\u001b[1m3/3\u001b[0m \u001b[32m━━━━━━━━━━━━━━━━━━━━\u001b[0m\u001b[37m\u001b[0m \u001b[1m2s\u001b[0m 246ms/step - accuracy: 0.7148 - loss: 1.2498\n",
            "Epoch 17/100\n",
            "\u001b[1m3/3\u001b[0m \u001b[32m━━━━━━━━━━━━━━━━━━━━\u001b[0m\u001b[37m\u001b[0m \u001b[1m1s\u001b[0m 254ms/step - accuracy: 0.8938 - loss: 0.5797\n",
            "Epoch 18/100\n",
            "\u001b[1m3/3\u001b[0m \u001b[32m━━━━━━━━━━━━━━━━━━━━\u001b[0m\u001b[37m\u001b[0m \u001b[1m1s\u001b[0m 251ms/step - accuracy: 0.8383 - loss: 0.8539\n",
            "Epoch 19/100\n",
            "\u001b[1m3/3\u001b[0m \u001b[32m━━━━━━━━━━━━━━━━━━━━\u001b[0m\u001b[37m\u001b[0m \u001b[1m1s\u001b[0m 253ms/step - accuracy: 0.7695 - loss: 1.2984\n",
            "Epoch 20/100\n",
            "\u001b[1m3/3\u001b[0m \u001b[32m━━━━━━━━━━━━━━━━━━━━\u001b[0m\u001b[37m\u001b[0m \u001b[1m1s\u001b[0m 253ms/step - accuracy: 0.6727 - loss: 1.8794\n",
            "Epoch 21/100\n",
            "\u001b[1m3/3\u001b[0m \u001b[32m━━━━━━━━━━━━━━━━━━━━\u001b[0m\u001b[37m\u001b[0m \u001b[1m1s\u001b[0m 252ms/step - accuracy: 0.6375 - loss: 4.9045\n",
            "Epoch 22/100\n",
            "\u001b[1m3/3\u001b[0m \u001b[32m━━━━━━━━━━━━━━━━━━━━\u001b[0m\u001b[37m\u001b[0m \u001b[1m1s\u001b[0m 248ms/step - accuracy: 0.6664 - loss: 3.1992\n",
            "Epoch 23/100\n",
            "\u001b[1m3/3\u001b[0m \u001b[32m━━━━━━━━━━━━━━━━━━━━\u001b[0m\u001b[37m\u001b[0m \u001b[1m1s\u001b[0m 251ms/step - accuracy: 0.7203 - loss: 2.3523\n",
            "Epoch 24/100\n",
            "\u001b[1m3/3\u001b[0m \u001b[32m━━━━━━━━━━━━━━━━━━━━\u001b[0m\u001b[37m\u001b[0m \u001b[1m1s\u001b[0m 249ms/step - accuracy: 0.8172 - loss: 1.8123\n",
            "Epoch 25/100\n",
            "\u001b[1m3/3\u001b[0m \u001b[32m━━━━━━━━━━━━━━━━━━━━\u001b[0m\u001b[37m\u001b[0m \u001b[1m1s\u001b[0m 312ms/step - accuracy: 0.7797 - loss: 4.6796\n",
            "Epoch 26/100\n",
            "\u001b[1m3/3\u001b[0m \u001b[32m━━━━━━━━━━━━━━━━━━━━\u001b[0m\u001b[37m\u001b[0m \u001b[1m1s\u001b[0m 384ms/step - accuracy: 0.5422 - loss: 5.4763\n",
            "Epoch 27/100\n",
            "\u001b[1m3/3\u001b[0m \u001b[32m━━━━━━━━━━━━━━━━━━━━\u001b[0m\u001b[37m\u001b[0m \u001b[1m1s\u001b[0m 391ms/step - accuracy: 0.7688 - loss: 5.9616\n",
            "Epoch 28/100\n",
            "\u001b[1m3/3\u001b[0m \u001b[32m━━━━━━━━━━━━━━━━━━━━\u001b[0m\u001b[37m\u001b[0m \u001b[1m1s\u001b[0m 410ms/step - accuracy: 0.7852 - loss: 2.7848\n",
            "Epoch 29/100\n",
            "\u001b[1m3/3\u001b[0m \u001b[32m━━━━━━━━━━━━━━━━━━━━\u001b[0m\u001b[37m\u001b[0m \u001b[1m1s\u001b[0m 254ms/step - accuracy: 0.7336 - loss: 2.8009\n",
            "Epoch 30/100\n",
            "\u001b[1m3/3\u001b[0m \u001b[32m━━━━━━━━━━━━━━━━━━━━\u001b[0m\u001b[37m\u001b[0m \u001b[1m1s\u001b[0m 261ms/step - accuracy: 0.7891 - loss: 1.9378\n",
            "Epoch 31/100\n",
            "\u001b[1m3/3\u001b[0m \u001b[32m━━━━━━━━━━━━━━━━━━━━\u001b[0m\u001b[37m\u001b[0m \u001b[1m1s\u001b[0m 252ms/step - accuracy: 0.8656 - loss: 0.3350\n",
            "Epoch 32/100\n",
            "\u001b[1m3/3\u001b[0m \u001b[32m━━━━━━━━━━━━━━━━━━━━\u001b[0m\u001b[37m\u001b[0m \u001b[1m1s\u001b[0m 240ms/step - accuracy: 0.8023 - loss: 0.9533\n",
            "Epoch 33/100\n",
            "\u001b[1m3/3\u001b[0m \u001b[32m━━━━━━━━━━━━━━━━━━━━\u001b[0m\u001b[37m\u001b[0m \u001b[1m1s\u001b[0m 252ms/step - accuracy: 0.8352 - loss: 0.9214\n",
            "Epoch 34/100\n",
            "\u001b[1m3/3\u001b[0m \u001b[32m━━━━━━━━━━━━━━━━━━━━\u001b[0m\u001b[37m\u001b[0m \u001b[1m1s\u001b[0m 246ms/step - accuracy: 0.8258 - loss: 0.7356\n",
            "Epoch 35/100\n",
            "\u001b[1m3/3\u001b[0m \u001b[32m━━━━━━━━━━━━━━━━━━━━\u001b[0m\u001b[37m\u001b[0m \u001b[1m1s\u001b[0m 250ms/step - accuracy: 0.7828 - loss: 1.2379\n",
            "Epoch 36/100\n",
            "\u001b[1m3/3\u001b[0m \u001b[32m━━━━━━━━━━━━━━━━━━━━\u001b[0m\u001b[37m\u001b[0m \u001b[1m1s\u001b[0m 253ms/step - accuracy: 0.8727 - loss: 0.3662\n",
            "Epoch 37/100\n",
            "\u001b[1m3/3\u001b[0m \u001b[32m━━━━━━━━━━━━━━━━━━━━\u001b[0m\u001b[37m\u001b[0m \u001b[1m1s\u001b[0m 251ms/step - accuracy: 0.8641 - loss: 0.7069\n",
            "Epoch 38/100\n",
            "\u001b[1m3/3\u001b[0m \u001b[32m━━━━━━━━━━━━━━━━━━━━\u001b[0m\u001b[37m\u001b[0m \u001b[1m1s\u001b[0m 310ms/step - accuracy: 0.9391 - loss: 0.2422\n",
            "Epoch 39/100\n",
            "\u001b[1m3/3\u001b[0m \u001b[32m━━━━━━━━━━━━━━━━━━━━\u001b[0m\u001b[37m\u001b[0m \u001b[1m2s\u001b[0m 376ms/step - accuracy: 0.9539 - loss: 0.2202\n",
            "Epoch 40/100\n",
            "\u001b[1m3/3\u001b[0m \u001b[32m━━━━━━━━━━━━━━━━━━━━\u001b[0m\u001b[37m\u001b[0m \u001b[1m1s\u001b[0m 380ms/step - accuracy: 0.9820 - loss: 0.0464\n",
            "Epoch 41/100\n",
            "\u001b[1m3/3\u001b[0m \u001b[32m━━━━━━━━━━━━━━━━━━━━\u001b[0m\u001b[37m\u001b[0m \u001b[1m1s\u001b[0m 426ms/step - accuracy: 0.9078 - loss: 0.1732\n",
            "Epoch 42/100\n",
            "\u001b[1m3/3\u001b[0m \u001b[32m━━━━━━━━━━━━━━━━━━━━\u001b[0m\u001b[37m\u001b[0m \u001b[1m2s\u001b[0m 250ms/step - accuracy: 1.0000 - loss: 0.0028\n",
            "Epoch 43/100\n",
            "\u001b[1m3/3\u001b[0m \u001b[32m━━━━━━━━━━━━━━━━━━━━\u001b[0m\u001b[37m\u001b[0m \u001b[1m1s\u001b[0m 251ms/step - accuracy: 0.9641 - loss: 0.0919\n",
            "Epoch 44/100\n",
            "\u001b[1m3/3\u001b[0m \u001b[32m━━━━━━━━━━━━━━━━━━━━\u001b[0m\u001b[37m\u001b[0m \u001b[1m1s\u001b[0m 243ms/step - accuracy: 1.0000 - loss: 0.0089\n",
            "Epoch 45/100\n",
            "\u001b[1m3/3\u001b[0m \u001b[32m━━━━━━━━━━━━━━━━━━━━\u001b[0m\u001b[37m\u001b[0m \u001b[1m1s\u001b[0m 247ms/step - accuracy: 1.0000 - loss: 0.0144\n",
            "Epoch 46/100\n",
            "\u001b[1m3/3\u001b[0m \u001b[32m━━━━━━━━━━━━━━━━━━━━\u001b[0m\u001b[37m\u001b[0m \u001b[1m1s\u001b[0m 249ms/step - accuracy: 0.9898 - loss: 0.0120\n",
            "Epoch 47/100\n",
            "\u001b[1m3/3\u001b[0m \u001b[32m━━━━━━━━━━━━━━━━━━━━\u001b[0m\u001b[37m\u001b[0m \u001b[1m1s\u001b[0m 254ms/step - accuracy: 1.0000 - loss: 0.0060\n",
            "Epoch 48/100\n",
            "\u001b[1m3/3\u001b[0m \u001b[32m━━━━━━━━━━━━━━━━━━━━\u001b[0m\u001b[37m\u001b[0m \u001b[1m1s\u001b[0m 245ms/step - accuracy: 1.0000 - loss: 0.0023\n",
            "Epoch 49/100\n",
            "\u001b[1m3/3\u001b[0m \u001b[32m━━━━━━━━━━━━━━━━━━━━\u001b[0m\u001b[37m\u001b[0m \u001b[1m1s\u001b[0m 288ms/step - accuracy: 1.0000 - loss: 0.0020\n",
            "Epoch 50/100\n",
            "\u001b[1m3/3\u001b[0m \u001b[32m━━━━━━━━━━━━━━━━━━━━\u001b[0m\u001b[37m\u001b[0m \u001b[1m2s\u001b[0m 389ms/step - accuracy: 1.0000 - loss: 0.0019\n",
            "Epoch 51/100\n",
            "\u001b[1m3/3\u001b[0m \u001b[32m━━━━━━━━━━━━━━━━━━━━\u001b[0m\u001b[37m\u001b[0m \u001b[1m1s\u001b[0m 381ms/step - accuracy: 1.0000 - loss: 0.0019\n",
            "Epoch 52/100\n",
            "\u001b[1m3/3\u001b[0m \u001b[32m━━━━━━━━━━━━━━━━━━━━\u001b[0m\u001b[37m\u001b[0m \u001b[1m1s\u001b[0m 428ms/step - accuracy: 1.0000 - loss: 0.0018\n",
            "Epoch 53/100\n",
            "\u001b[1m3/3\u001b[0m \u001b[32m━━━━━━━━━━━━━━━━━━━━\u001b[0m\u001b[37m\u001b[0m \u001b[1m2s\u001b[0m 252ms/step - accuracy: 1.0000 - loss: 0.0018\n",
            "Epoch 54/100\n",
            "\u001b[1m3/3\u001b[0m \u001b[32m━━━━━━━━━━━━━━━━━━━━\u001b[0m\u001b[37m\u001b[0m \u001b[1m1s\u001b[0m 251ms/step - accuracy: 1.0000 - loss: 0.0017\n",
            "Epoch 55/100\n",
            "\u001b[1m3/3\u001b[0m \u001b[32m━━━━━━━━━━━━━━━━━━━━\u001b[0m\u001b[37m\u001b[0m \u001b[1m1s\u001b[0m 255ms/step - accuracy: 1.0000 - loss: 0.0017\n",
            "Epoch 56/100\n",
            "\u001b[1m3/3\u001b[0m \u001b[32m━━━━━━━━━━━━━━━━━━━━\u001b[0m\u001b[37m\u001b[0m \u001b[1m1s\u001b[0m 248ms/step - accuracy: 1.0000 - loss: 0.0016\n",
            "Epoch 57/100\n",
            "\u001b[1m3/3\u001b[0m \u001b[32m━━━━━━━━━━━━━━━━━━━━\u001b[0m\u001b[37m\u001b[0m \u001b[1m1s\u001b[0m 245ms/step - accuracy: 1.0000 - loss: 0.0015\n",
            "Epoch 58/100\n",
            "\u001b[1m3/3\u001b[0m \u001b[32m━━━━━━━━━━━━━━━━━━━━\u001b[0m\u001b[37m\u001b[0m \u001b[1m1s\u001b[0m 242ms/step - accuracy: 1.0000 - loss: 0.0015\n",
            "Epoch 59/100\n",
            "\u001b[1m3/3\u001b[0m \u001b[32m━━━━━━━━━━━━━━━━━━━━\u001b[0m\u001b[37m\u001b[0m \u001b[1m1s\u001b[0m 251ms/step - accuracy: 1.0000 - loss: 0.0014\n",
            "Epoch 60/100\n",
            "\u001b[1m3/3\u001b[0m \u001b[32m━━━━━━━━━━━━━━━━━━━━\u001b[0m\u001b[37m\u001b[0m \u001b[1m1s\u001b[0m 244ms/step - accuracy: 1.0000 - loss: 0.0014\n",
            "Epoch 61/100\n",
            "\u001b[1m3/3\u001b[0m \u001b[32m━━━━━━━━━━━━━━━━━━━━\u001b[0m\u001b[37m\u001b[0m \u001b[1m1s\u001b[0m 250ms/step - accuracy: 1.0000 - loss: 0.0013\n",
            "Epoch 62/100\n",
            "\u001b[1m3/3\u001b[0m \u001b[32m━━━━━━━━━━━━━━━━━━━━\u001b[0m\u001b[37m\u001b[0m \u001b[1m1s\u001b[0m 250ms/step - accuracy: 1.0000 - loss: 0.0013\n",
            "Epoch 63/100\n",
            "\u001b[1m3/3\u001b[0m \u001b[32m━━━━━━━━━━━━━━━━━━━━\u001b[0m\u001b[37m\u001b[0m \u001b[1m2s\u001b[0m 383ms/step - accuracy: 1.0000 - loss: 0.0013\n",
            "Epoch 64/100\n",
            "\u001b[1m3/3\u001b[0m \u001b[32m━━━━━━━━━━━━━━━━━━━━\u001b[0m\u001b[37m\u001b[0m \u001b[1m1s\u001b[0m 389ms/step - accuracy: 1.0000 - loss: 0.0012\n",
            "Epoch 65/100\n",
            "\u001b[1m3/3\u001b[0m \u001b[32m━━━━━━━━━━━━━━━━━━━━\u001b[0m\u001b[37m\u001b[0m \u001b[1m1s\u001b[0m 415ms/step - accuracy: 1.0000 - loss: 0.0012\n",
            "Epoch 66/100\n",
            "\u001b[1m3/3\u001b[0m \u001b[32m━━━━━━━━━━━━━━━━━━━━\u001b[0m\u001b[37m\u001b[0m \u001b[1m1s\u001b[0m 256ms/step - accuracy: 1.0000 - loss: 0.0012\n",
            "Epoch 67/100\n",
            "\u001b[1m3/3\u001b[0m \u001b[32m━━━━━━━━━━━━━━━━━━━━\u001b[0m\u001b[37m\u001b[0m \u001b[1m1s\u001b[0m 246ms/step - accuracy: 1.0000 - loss: 0.0011\n",
            "Epoch 68/100\n",
            "\u001b[1m3/3\u001b[0m \u001b[32m━━━━━━━━━━━━━━━━━━━━\u001b[0m\u001b[37m\u001b[0m \u001b[1m1s\u001b[0m 252ms/step - accuracy: 1.0000 - loss: 0.0011\n",
            "Epoch 69/100\n",
            "\u001b[1m3/3\u001b[0m \u001b[32m━━━━━━━━━━━━━━━━━━━━\u001b[0m\u001b[37m\u001b[0m \u001b[1m1s\u001b[0m 243ms/step - accuracy: 1.0000 - loss: 0.0011\n",
            "Epoch 70/100\n",
            "\u001b[1m3/3\u001b[0m \u001b[32m━━━━━━━━━━━━━━━━━━━━\u001b[0m\u001b[37m\u001b[0m \u001b[1m1s\u001b[0m 256ms/step - accuracy: 1.0000 - loss: 0.0011\n",
            "Epoch 71/100\n",
            "\u001b[1m3/3\u001b[0m \u001b[32m━━━━━━━━━━━━━━━━━━━━\u001b[0m\u001b[37m\u001b[0m \u001b[1m1s\u001b[0m 255ms/step - accuracy: 1.0000 - loss: 0.0011\n",
            "Epoch 72/100\n",
            "\u001b[1m3/3\u001b[0m \u001b[32m━━━━━━━━━━━━━━━━━━━━\u001b[0m\u001b[37m\u001b[0m \u001b[1m1s\u001b[0m 242ms/step - accuracy: 1.0000 - loss: 0.0010\n",
            "Epoch 73/100\n",
            "\u001b[1m3/3\u001b[0m \u001b[32m━━━━━━━━━━━━━━━━━━━━\u001b[0m\u001b[37m\u001b[0m \u001b[1m1s\u001b[0m 245ms/step - accuracy: 1.0000 - loss: 0.0010\n",
            "Epoch 74/100\n",
            "\u001b[1m3/3\u001b[0m \u001b[32m━━━━━━━━━━━━━━━━━━━━\u001b[0m\u001b[37m\u001b[0m \u001b[1m1s\u001b[0m 244ms/step - accuracy: 1.0000 - loss: 9.9719e-04\n",
            "Epoch 75/100\n",
            "\u001b[1m3/3\u001b[0m \u001b[32m━━━━━━━━━━━━━━━━━━━━\u001b[0m\u001b[37m\u001b[0m \u001b[1m1s\u001b[0m 253ms/step - accuracy: 1.0000 - loss: 9.8098e-04\n",
            "Epoch 76/100\n",
            "\u001b[1m3/3\u001b[0m \u001b[32m━━━━━━━━━━━━━━━━━━━━\u001b[0m\u001b[37m\u001b[0m \u001b[1m1s\u001b[0m 246ms/step - accuracy: 1.0000 - loss: 9.6539e-04\n",
            "Epoch 77/100\n",
            "\u001b[1m3/3\u001b[0m \u001b[32m━━━━━━━━━━━━━━━━━━━━\u001b[0m\u001b[37m\u001b[0m \u001b[1m1s\u001b[0m 354ms/step - accuracy: 1.0000 - loss: 9.5035e-04\n",
            "Epoch 78/100\n",
            "\u001b[1m3/3\u001b[0m \u001b[32m━━━━━━━━━━━━━━━━━━━━\u001b[0m\u001b[37m\u001b[0m \u001b[1m1s\u001b[0m 390ms/step - accuracy: 1.0000 - loss: 9.3582e-04\n",
            "Epoch 79/100\n",
            "\u001b[1m3/3\u001b[0m \u001b[32m━━━━━━━━━━━━━━━━━━━━\u001b[0m\u001b[37m\u001b[0m \u001b[1m1s\u001b[0m 390ms/step - accuracy: 1.0000 - loss: 9.2174e-04\n",
            "Epoch 80/100\n",
            "\u001b[1m3/3\u001b[0m \u001b[32m━━━━━━━━━━━━━━━━━━━━\u001b[0m\u001b[37m\u001b[0m \u001b[1m1s\u001b[0m 429ms/step - accuracy: 1.0000 - loss: 9.0810e-04\n",
            "Epoch 81/100\n",
            "\u001b[1m3/3\u001b[0m \u001b[32m━━━━━━━━━━━━━━━━━━━━\u001b[0m\u001b[37m\u001b[0m \u001b[1m1s\u001b[0m 260ms/step - accuracy: 1.0000 - loss: 8.9485e-04\n",
            "Epoch 82/100\n",
            "\u001b[1m3/3\u001b[0m \u001b[32m━━━━━━━━━━━━━━━━━━━━\u001b[0m\u001b[37m\u001b[0m \u001b[1m1s\u001b[0m 256ms/step - accuracy: 1.0000 - loss: 8.8199e-04\n",
            "Epoch 83/100\n",
            "\u001b[1m3/3\u001b[0m \u001b[32m━━━━━━━━━━━━━━━━━━━━\u001b[0m\u001b[37m\u001b[0m \u001b[1m1s\u001b[0m 281ms/step - accuracy: 1.0000 - loss: 8.6949e-04\n",
            "Epoch 84/100\n",
            "\u001b[1m3/3\u001b[0m \u001b[32m━━━━━━━━━━━━━━━━━━━━\u001b[0m\u001b[37m\u001b[0m \u001b[1m1s\u001b[0m 246ms/step - accuracy: 1.0000 - loss: 8.5735e-04\n",
            "Epoch 85/100\n",
            "\u001b[1m3/3\u001b[0m \u001b[32m━━━━━━━━━━━━━━━━━━━━\u001b[0m\u001b[37m\u001b[0m \u001b[1m1s\u001b[0m 244ms/step - accuracy: 1.0000 - loss: 8.4553e-04\n",
            "Epoch 86/100\n",
            "\u001b[1m3/3\u001b[0m \u001b[32m━━━━━━━━━━━━━━━━━━━━\u001b[0m\u001b[37m\u001b[0m \u001b[1m1s\u001b[0m 249ms/step - accuracy: 1.0000 - loss: 8.3403e-04\n",
            "Epoch 87/100\n",
            "\u001b[1m3/3\u001b[0m \u001b[32m━━━━━━━━━━━━━━━━━━━━\u001b[0m\u001b[37m\u001b[0m \u001b[1m1s\u001b[0m 247ms/step - accuracy: 1.0000 - loss: 8.2290e-04\n",
            "Epoch 88/100\n",
            "\u001b[1m3/3\u001b[0m \u001b[32m━━━━━━━━━━━━━━━━━━━━\u001b[0m\u001b[37m\u001b[0m \u001b[1m1s\u001b[0m 251ms/step - accuracy: 1.0000 - loss: 8.1201e-04\n",
            "Epoch 89/100\n",
            "\u001b[1m3/3\u001b[0m \u001b[32m━━━━━━━━━━━━━━━━━━━━\u001b[0m\u001b[37m\u001b[0m \u001b[1m1s\u001b[0m 256ms/step - accuracy: 1.0000 - loss: 8.0134e-04\n",
            "Epoch 90/100\n",
            "\u001b[1m3/3\u001b[0m \u001b[32m━━━━━━━━━━━━━━━━━━━━\u001b[0m\u001b[37m\u001b[0m \u001b[1m1s\u001b[0m 252ms/step - accuracy: 1.0000 - loss: 7.9096e-04\n",
            "Epoch 91/100\n",
            "\u001b[1m3/3\u001b[0m \u001b[32m━━━━━━━━━━━━━━━━━━━━\u001b[0m\u001b[37m\u001b[0m \u001b[1m1s\u001b[0m 250ms/step - accuracy: 1.0000 - loss: 7.8086e-04\n",
            "Epoch 92/100\n",
            "\u001b[1m3/3\u001b[0m \u001b[32m━━━━━━━━━━━━━━━━━━━━\u001b[0m\u001b[37m\u001b[0m \u001b[1m1s\u001b[0m 342ms/step - accuracy: 1.0000 - loss: 7.7103e-04\n",
            "Epoch 93/100\n",
            "\u001b[1m3/3\u001b[0m \u001b[32m━━━━━━━━━━━━━━━━━━━━\u001b[0m\u001b[37m\u001b[0m \u001b[1m2s\u001b[0m 396ms/step - accuracy: 1.0000 - loss: 7.6143e-04\n",
            "Epoch 94/100\n",
            "\u001b[1m3/3\u001b[0m \u001b[32m━━━━━━━━━━━━━━━━━━━━\u001b[0m\u001b[37m\u001b[0m \u001b[1m1s\u001b[0m 387ms/step - accuracy: 1.0000 - loss: 7.5208e-04\n",
            "Epoch 95/100\n",
            "\u001b[1m3/3\u001b[0m \u001b[32m━━━━━━━━━━━━━━━━━━━━\u001b[0m\u001b[37m\u001b[0m \u001b[1m1s\u001b[0m 429ms/step - accuracy: 1.0000 - loss: 7.4296e-04\n",
            "Epoch 96/100\n",
            "\u001b[1m3/3\u001b[0m \u001b[32m━━━━━━━━━━━━━━━━━━━━\u001b[0m\u001b[37m\u001b[0m \u001b[1m1s\u001b[0m 249ms/step - accuracy: 1.0000 - loss: 7.3410e-04\n",
            "Epoch 97/100\n",
            "\u001b[1m3/3\u001b[0m \u001b[32m━━━━━━━━━━━━━━━━━━━━\u001b[0m\u001b[37m\u001b[0m \u001b[1m1s\u001b[0m 243ms/step - accuracy: 1.0000 - loss: 7.2540e-04\n",
            "Epoch 98/100\n",
            "\u001b[1m3/3\u001b[0m \u001b[32m━━━━━━━━━━━━━━━━━━━━\u001b[0m\u001b[37m\u001b[0m \u001b[1m1s\u001b[0m 241ms/step - accuracy: 1.0000 - loss: 7.1687e-04\n",
            "Epoch 99/100\n",
            "\u001b[1m3/3\u001b[0m \u001b[32m━━━━━━━━━━━━━━━━━━━━\u001b[0m\u001b[37m\u001b[0m \u001b[1m1s\u001b[0m 258ms/step - accuracy: 1.0000 - loss: 7.0857e-04\n",
            "Epoch 100/100\n",
            "\u001b[1m3/3\u001b[0m \u001b[32m━━━━━━━━━━━━━━━━━━━━\u001b[0m\u001b[37m\u001b[0m \u001b[1m1s\u001b[0m 247ms/step - accuracy: 1.0000 - loss: 7.0045e-04\n",
            "CPU times: user 1min 14s, sys: 1min 6s, total: 2min 20s\n",
            "Wall time: 1min 51s\n"
          ]
        },
        {
          "output_type": "execute_result",
          "data": {
            "text/plain": [
              "<keras.src.callbacks.history.History at 0x7cc74816a1d0>"
            ]
          },
          "metadata": {},
          "execution_count": 490
        }
      ]
    },
    {
      "cell_type": "code",
      "source": [
        "%time y_train"
      ],
      "metadata": {
        "colab": {
          "base_uri": "https://localhost:8080/"
        },
        "collapsed": true,
        "id": "MHY5Nb257hoh",
        "outputId": "9ecb921d-9938-45be-938e-abc33913c198"
      },
      "execution_count": null,
      "outputs": [
        {
          "output_type": "stream",
          "name": "stdout",
          "text": [
            "CPU times: user 2 µs, sys: 1e+03 ns, total: 3 µs\n",
            "Wall time: 6.44 µs\n"
          ]
        },
        {
          "output_type": "execute_result",
          "data": {
            "text/plain": [
              "array([[0., 0., 1., 0., 0.],\n",
              "       [0., 1., 0., 0., 0.],\n",
              "       [0., 0., 0., 0., 1.],\n",
              "       [0., 0., 0., 0., 1.],\n",
              "       [1., 0., 0., 0., 0.],\n",
              "       [0., 1., 0., 0., 0.],\n",
              "       [0., 0., 1., 0., 0.],\n",
              "       [0., 1., 0., 0., 0.],\n",
              "       [0., 0., 1., 0., 0.],\n",
              "       [0., 0., 1., 0., 0.],\n",
              "       [0., 0., 1., 0., 0.],\n",
              "       [1., 0., 0., 0., 0.],\n",
              "       [0., 0., 1., 0., 0.],\n",
              "       [0., 0., 0., 0., 1.],\n",
              "       [0., 0., 1., 0., 0.],\n",
              "       [0., 0., 0., 0., 1.],\n",
              "       [0., 0., 1., 0., 0.],\n",
              "       [0., 0., 0., 0., 1.],\n",
              "       [1., 0., 0., 0., 0.],\n",
              "       [1., 0., 0., 0., 0.],\n",
              "       [1., 0., 0., 0., 0.],\n",
              "       [0., 0., 1., 0., 0.],\n",
              "       [0., 0., 0., 0., 1.],\n",
              "       [0., 1., 0., 0., 0.],\n",
              "       [0., 0., 0., 0., 1.],\n",
              "       [0., 0., 1., 0., 0.],\n",
              "       [1., 0., 0., 0., 0.],\n",
              "       [0., 0., 0., 0., 1.],\n",
              "       [0., 0., 1., 0., 0.],\n",
              "       [0., 1., 0., 0., 0.],\n",
              "       [0., 0., 1., 0., 0.],\n",
              "       [0., 0., 1., 0., 0.],\n",
              "       [1., 0., 0., 0., 0.],\n",
              "       [0., 1., 0., 0., 0.],\n",
              "       [0., 1., 0., 0., 0.],\n",
              "       [1., 0., 0., 0., 0.],\n",
              "       [0., 0., 1., 0., 0.],\n",
              "       [0., 1., 0., 0., 0.],\n",
              "       [0., 0., 0., 0., 1.],\n",
              "       [0., 0., 1., 0., 0.],\n",
              "       [0., 1., 0., 0., 0.],\n",
              "       [0., 0., 1., 0., 0.],\n",
              "       [0., 0., 1., 0., 0.],\n",
              "       [0., 0., 0., 0., 1.],\n",
              "       [0., 1., 0., 0., 0.],\n",
              "       [1., 0., 0., 0., 0.],\n",
              "       [0., 0., 1., 0., 0.],\n",
              "       [0., 1., 0., 0., 0.],\n",
              "       [0., 1., 0., 0., 0.],\n",
              "       [0., 0., 1., 0., 0.],\n",
              "       [0., 0., 1., 0., 0.],\n",
              "       [0., 0., 1., 0., 0.],\n",
              "       [0., 0., 1., 0., 0.],\n",
              "       [0., 1., 0., 0., 0.],\n",
              "       [0., 0., 0., 0., 1.],\n",
              "       [0., 0., 1., 0., 0.],\n",
              "       [1., 0., 0., 0., 0.],\n",
              "       [0., 0., 1., 0., 0.],\n",
              "       [0., 0., 1., 0., 0.],\n",
              "       [0., 1., 0., 0., 0.],\n",
              "       [0., 0., 0., 0., 1.],\n",
              "       [1., 0., 0., 0., 0.],\n",
              "       [1., 0., 0., 0., 0.],\n",
              "       [0., 0., 1., 0., 0.],\n",
              "       [0., 0., 0., 0., 1.],\n",
              "       [0., 0., 0., 0., 1.],\n",
              "       [0., 0., 0., 0., 1.],\n",
              "       [0., 0., 1., 0., 0.],\n",
              "       [0., 0., 1., 0., 0.],\n",
              "       [0., 0., 1., 0., 0.],\n",
              "       [1., 0., 0., 0., 0.],\n",
              "       [0., 1., 0., 0., 0.],\n",
              "       [1., 0., 0., 0., 0.],\n",
              "       [0., 0., 1., 0., 0.],\n",
              "       [0., 1., 0., 0., 0.],\n",
              "       [1., 0., 0., 0., 0.],\n",
              "       [0., 0., 0., 0., 1.],\n",
              "       [0., 0., 1., 0., 0.],\n",
              "       [0., 0., 1., 0., 0.],\n",
              "       [1., 0., 0., 0., 0.]])"
            ]
          },
          "metadata": {},
          "execution_count": 491
        }
      ]
    },
    {
      "cell_type": "code",
      "source": [
        "#Cambiamos el formato al conjunto de prueba\n",
        "X_test = np.array(X_test)\n",
        "y_test = np.array(y_test)"
      ],
      "metadata": {
        "id": "_HnRjT-58S_9"
      },
      "execution_count": null,
      "outputs": []
    },
    {
      "cell_type": "code",
      "source": [
        "if len(y_test.shape) == 0:\n",
        "    y_test = y_test.reshape(1,)"
      ],
      "metadata": {
        "id": "lmF30V2u8WLt"
      },
      "execution_count": null,
      "outputs": []
    },
    {
      "cell_type": "code",
      "source": [
        "print(y_test.shape)\n",
        "print(X_test.shape)\n",
        "print(y_train.shape)\n",
        "print(X_train.shape)"
      ],
      "metadata": {
        "colab": {
          "base_uri": "https://localhost:8080/"
        },
        "id": "pvsyVgAc8YrM",
        "outputId": "be2c95b3-dd68-4864-aaf9-185fd8d0cfd5"
      },
      "execution_count": null,
      "outputs": [
        {
          "output_type": "stream",
          "name": "stdout",
          "text": [
            "(20,)\n",
            "(20, 180, 180, 3)\n",
            "(80, 5)\n",
            "(80, 180, 180, 3)\n"
          ]
        }
      ]
    },
    {
      "cell_type": "code",
      "source": [
        "#Verificamos su forma\n",
        "y_test"
      ],
      "metadata": {
        "colab": {
          "base_uri": "https://localhost:8080/"
        },
        "id": "aFeGh5l-8bj6",
        "outputId": "f76d7ac3-30d4-4d1d-e3a1-1795cf1451e5"
      },
      "execution_count": null,
      "outputs": [
        {
          "output_type": "execute_result",
          "data": {
            "text/plain": [
              "array([0, 2, 1, 1, 2, 4, 2, 1, 2, 4, 2, 2, 2, 2, 4, 0, 1, 4, 0, 0])"
            ]
          },
          "metadata": {},
          "execution_count": 495
        }
      ]
    },
    {
      "cell_type": "code",
      "source": [
        "#Usamos el modelo para predecir con el conjunto de prueba\n",
        "y_pred = model.predict(X_test) #Esto genera una salida predicha"
      ],
      "metadata": {
        "colab": {
          "base_uri": "https://localhost:8080/"
        },
        "id": "6ygX05zt8fGl",
        "outputId": "442d73c1-0183-4f42-c50c-b6375998cd15"
      },
      "execution_count": null,
      "outputs": [
        {
          "output_type": "stream",
          "name": "stdout",
          "text": [
            "\u001b[1m1/1\u001b[0m \u001b[32m━━━━━━━━━━━━━━━━━━━━\u001b[0m\u001b[37m\u001b[0m \u001b[1m0s\u001b[0m 76ms/step\n"
          ]
        }
      ]
    },
    {
      "cell_type": "code",
      "source": [
        "#Revisamos el resultado\n",
        "y_pred"
      ],
      "metadata": {
        "colab": {
          "base_uri": "https://localhost:8080/"
        },
        "collapsed": true,
        "id": "H_1ofjlf8hi3",
        "outputId": "dadb1a23-4efe-40b6-cc33-a86c33d0d55b"
      },
      "execution_count": null,
      "outputs": [
        {
          "output_type": "execute_result",
          "data": {
            "text/plain": [
              "array([[7.71879554e-02, 1.38869385e-11, 9.22811985e-01, 0.00000000e+00,\n",
              "        6.45957954e-08],\n",
              "       [7.29123950e-02, 2.04326191e-11, 9.27087605e-01, 0.00000000e+00,\n",
              "        1.44695322e-08],\n",
              "       [4.68834210e-03, 1.46301527e-05, 9.91031468e-01, 0.00000000e+00,\n",
              "        4.26553236e-03],\n",
              "       [3.66848581e-05, 2.99095445e-05, 2.20631316e-01, 0.00000000e+00,\n",
              "        7.79302061e-01],\n",
              "       [4.57777162e-07, 1.92281399e-10, 3.22514981e-01, 0.00000000e+00,\n",
              "        6.77484512e-01],\n",
              "       [9.70976591e-01, 9.43465158e-03, 1.89858843e-02, 0.00000000e+00,\n",
              "        6.02858781e-04],\n",
              "       [1.25820652e-01, 7.96422114e-07, 8.74157548e-01, 0.00000000e+00,\n",
              "        2.10324251e-05],\n",
              "       [1.66253258e-07, 3.87095474e-02, 8.16771761e-03, 0.00000000e+00,\n",
              "        9.53122497e-01],\n",
              "       [2.32181316e-10, 9.99999702e-01, 6.45813572e-08, 0.00000000e+00,\n",
              "        1.47272090e-07],\n",
              "       [7.53425166e-16, 6.43367581e-09, 1.21163549e-02, 0.00000000e+00,\n",
              "        9.87883508e-01],\n",
              "       [9.36735928e-01, 3.10878590e-09, 6.03860132e-02, 0.00000000e+00,\n",
              "        2.87793088e-03],\n",
              "       [3.75321907e-09, 1.47705571e-19, 9.99999940e-01, 0.00000000e+00,\n",
              "        4.22840785e-08],\n",
              "       [1.02558068e-03, 4.06372624e-09, 9.89743292e-01, 0.00000000e+00,\n",
              "        9.23120417e-03],\n",
              "       [1.49702996e-01, 1.49356390e-04, 1.39002800e-02, 0.00000000e+00,\n",
              "        8.36247325e-01],\n",
              "       [3.60795882e-09, 9.05685482e-09, 3.00442160e-04, 0.00000000e+00,\n",
              "        9.99699593e-01],\n",
              "       [1.08494751e-01, 3.02802102e-04, 1.07980289e-01, 0.00000000e+00,\n",
              "        7.83222198e-01],\n",
              "       [4.13097471e-01, 8.32011716e-12, 5.86899221e-01, 0.00000000e+00,\n",
              "        3.34235278e-06],\n",
              "       [9.94387567e-01, 3.85216154e-05, 4.70718555e-03, 0.00000000e+00,\n",
              "        8.66623595e-04],\n",
              "       [5.58920554e-09, 6.45465840e-16, 9.99800980e-01, 0.00000000e+00,\n",
              "        1.99024988e-04],\n",
              "       [9.29608010e-04, 1.16212789e-06, 9.95731533e-01, 0.00000000e+00,\n",
              "        3.33776465e-03]], dtype=float32)"
            ]
          },
          "metadata": {},
          "execution_count": 497
        }
      ]
    },
    {
      "cell_type": "code",
      "source": [
        "#Redondeamos los resultados\n",
        "y_pred=np.round(y_pred)\n",
        "y_pred"
      ],
      "metadata": {
        "collapsed": true,
        "colab": {
          "base_uri": "https://localhost:8080/"
        },
        "id": "OsIM0Z8o8n8N",
        "outputId": "e695de2e-0c9e-4c7a-f37e-9bc2c6e0c990"
      },
      "execution_count": null,
      "outputs": [
        {
          "output_type": "execute_result",
          "data": {
            "text/plain": [
              "array([[0., 0., 1., 0., 0.],\n",
              "       [0., 0., 1., 0., 0.],\n",
              "       [0., 0., 1., 0., 0.],\n",
              "       [0., 0., 0., 0., 1.],\n",
              "       [0., 0., 0., 0., 1.],\n",
              "       [1., 0., 0., 0., 0.],\n",
              "       [0., 0., 1., 0., 0.],\n",
              "       [0., 0., 0., 0., 1.],\n",
              "       [0., 1., 0., 0., 0.],\n",
              "       [0., 0., 0., 0., 1.],\n",
              "       [1., 0., 0., 0., 0.],\n",
              "       [0., 0., 1., 0., 0.],\n",
              "       [0., 0., 1., 0., 0.],\n",
              "       [0., 0., 0., 0., 1.],\n",
              "       [0., 0., 0., 0., 1.],\n",
              "       [0., 0., 0., 0., 1.],\n",
              "       [0., 0., 1., 0., 0.],\n",
              "       [1., 0., 0., 0., 0.],\n",
              "       [0., 0., 1., 0., 0.],\n",
              "       [0., 0., 1., 0., 0.]], dtype=float32)"
            ]
          },
          "metadata": {},
          "execution_count": 498
        }
      ]
    },
    {
      "cell_type": "code",
      "source": [
        "#Se importan las librerias\n",
        "\n",
        "import pandas as pd\n",
        "from sklearn.metrics import confusion_matrix, accuracy_score, precision_score, recall_score, f1_score, roc_auc_score, mean_absolute_error, mean_squared_error, r2_score\n",
        "\n",
        "\n",
        "y_pred = np.argmax(y_pred, axis=1)\n",
        "# Accuracy\n",
        "# Métricas de clasificación\n",
        "conf_matrix = confusion_matrix(y_test, y_pred)\n",
        "accuracy = accuracy_score(y_test, y_pred)\n",
        "\n",
        "# Calculamos precision, recall y f1 para cada clase\n",
        "precision = precision_score(y_test, y_pred, average=None)\n",
        "precision_avg = precision_score(y_test, y_pred, average=\"macro\")\n",
        "recall = recall_score(y_test, y_pred, average=None)\n",
        "recall_avg = recall_score(y_test, y_pred, average=\"macro\")\n",
        "f1 = f1_score(y_test, y_pred, average=None)\n",
        "f1_avg = f1_score(y_test, y_pred, average=\"macro\")\n",
        "print(\"Exactitud:\", accuracy)\n",
        "print(\"Precisión por clase:\", precision,'->', precision_avg)\n",
        "print(\"Sensibilidad por clase:\", recall,'->', recall_avg)\n",
        "print(\"F1 Score por clase:\", f1,'->', f1_avg)"
      ],
      "metadata": {
        "colab": {
          "base_uri": "https://localhost:8080/"
        },
        "id": "wk3-_Xpq8uKj",
        "outputId": "6b346b14-00c3-468f-98b0-f6a0f0a26d70"
      },
      "execution_count": null,
      "outputs": [
        {
          "output_type": "stream",
          "name": "stdout",
          "text": [
            "Exactitud: 0.3\n",
            "Precisión por clase: [0.         0.         0.44444444 0.28571429] -> 0.18253968253968253\n",
            "Sensibilidad por clase: [0.  0.  0.5 0.5] -> 0.25\n",
            "F1 Score por clase: [0.         0.         0.47058824 0.36363636] -> 0.20855614973262032\n"
          ]
        }
      ]
    },
    {
      "cell_type": "code",
      "source": [
        "from sklearn.metrics import confusion_matrix, ConfusionMatrixDisplay\n",
        "import matplotlib.pyplot as plt\n",
        "cm = confusion_matrix(y_test, y_pred, labels=np.arange(5)) # labels especifica las clases a incluir\n",
        "\n",
        "disp = ConfusionMatrixDisplay(confusion_matrix=cm)\n",
        "disp.display_labels = ['bajo', 'cello', 'guitarra', 'guitarraE', 'violin']\n",
        "\n",
        "# Plotear la matriz de confusión\n",
        "disp.plot()\n",
        "\n",
        "# Mostrar la matriz de confusión\n",
        "plt.show()"
      ],
      "metadata": {
        "colab": {
          "base_uri": "https://localhost:8080/",
          "height": 455
        },
        "id": "EA4kGD268ynw",
        "outputId": "a3b10a6a-3a31-4ac3-fc1b-87f0f0a799c2"
      },
      "execution_count": null,
      "outputs": [
        {
          "output_type": "display_data",
          "data": {
            "text/plain": [
              "<Figure size 640x480 with 2 Axes>"
            ],
            "image/png": "[encoded data removed]"
          },
          "metadata": {}
        }
      ]
    }
  ]
}